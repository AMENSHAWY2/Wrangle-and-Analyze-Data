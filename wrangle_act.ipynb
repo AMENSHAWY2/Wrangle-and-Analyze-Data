{
 "cells": [
  {
   "cell_type": "code",
   "execution_count": 131,
   "id": "greek-tribute",
   "metadata": {},
   "outputs": [],
   "source": [
    "\n",
    "import pandas as pd\n",
    "import numpy as np\n",
    "import requests\n",
    "import os\n",
    "import json\n",
    "import time\n",
    "import re\n",
    "import matplotlib.pyplot as plt\n",
    "import warnings\n",
    "from IPython.display import Image\n",
    "from functools import reduce\n",
    "import re\n",
    "import seaborn as sns\n",
    "import datetime"
   ]
  },
  {
   "cell_type": "code",
   "execution_count": 132,
   "id": "compliant-nylon",
   "metadata": {},
   "outputs": [],
   "source": [
    "#------------------------------------------ Data Gathering-----------"
   ]
  },
  {
   "cell_type": "markdown",
   "id": "surprised-saint",
   "metadata": {},
   "source": [
    "# Gathering Data"
   ]
  },
  {
   "cell_type": "code",
   "execution_count": 133,
   "id": "accepted-question",
   "metadata": {},
   "outputs": [],
   "source": [
    "# Open the csv file(from the class)\n",
    "df_twitter_archive = pd.read_csv('twitter-archive-enhanced.csv')"
   ]
  },
  {
   "cell_type": "code",
   "execution_count": 134,
   "id": "opening-factory",
   "metadata": {},
   "outputs": [],
   "source": [
    "\n",
    "# Open the Image file(from the class)\n",
    "url = 'https://d17h27t6h515a5.cloudfront.net/topher/2017/August/599fd2ad_image-predictions/image-predictions.tsv'\n",
    "image_request = requests.get(url, allow_redirects=True)\n",
    "open('image_predictions.tsv', 'wb').write(image_request.content)\n",
    "df_image_predictions = pd.read_csv('image_predictions.tsv', sep = '\\t')\n"
   ]
  },
  {
   "cell_type": "code",
   "execution_count": 135,
   "id": "controversial-adelaide",
   "metadata": {},
   "outputs": [],
   "source": [
    "# Open the Twitter from file(from the class as there is no access for twitter DEV)\n",
    "df_tweet_json = pd.read_json(\"tweet-json.txt\" , lines=True)"
   ]
  },
  {
   "cell_type": "code",
   "execution_count": 136,
   "id": "departmental-optics",
   "metadata": {},
   "outputs": [],
   "source": [
    "\n",
    "df_tweet_json = df_tweet_json[['id', 'favorite_count','retweet_count']]\n",
    "\n",
    "#Im doing this step to make sure that i have uniqe column for data merge with the same name\n",
    "df_tweet_json= df_tweet_json.rename(columns={'id':'tweet_id'})\n",
    "\n"
   ]
  },
  {
   "cell_type": "markdown",
   "id": "unusual-registration",
   "metadata": {},
   "source": [
    "# Assessing Data"
   ]
  },
  {
   "cell_type": "code",
   "execution_count": 137,
   "id": "freelance-binding",
   "metadata": {},
   "outputs": [
    {
     "data": {
      "text/html": [
       "<div>\n",
       "<style scoped>\n",
       "    .dataframe tbody tr th:only-of-type {\n",
       "        vertical-align: middle;\n",
       "    }\n",
       "\n",
       "    .dataframe tbody tr th {\n",
       "        vertical-align: top;\n",
       "    }\n",
       "\n",
       "    .dataframe thead th {\n",
       "        text-align: right;\n",
       "    }\n",
       "</style>\n",
       "<table border=\"1\" class=\"dataframe\">\n",
       "  <thead>\n",
       "    <tr style=\"text-align: right;\">\n",
       "      <th></th>\n",
       "      <th>tweet_id</th>\n",
       "      <th>in_reply_to_status_id</th>\n",
       "      <th>in_reply_to_user_id</th>\n",
       "      <th>timestamp</th>\n",
       "      <th>source</th>\n",
       "      <th>text</th>\n",
       "      <th>retweeted_status_id</th>\n",
       "      <th>retweeted_status_user_id</th>\n",
       "      <th>retweeted_status_timestamp</th>\n",
       "      <th>expanded_urls</th>\n",
       "      <th>rating_numerator</th>\n",
       "      <th>rating_denominator</th>\n",
       "      <th>name</th>\n",
       "      <th>doggo</th>\n",
       "      <th>floofer</th>\n",
       "      <th>pupper</th>\n",
       "      <th>puppo</th>\n",
       "    </tr>\n",
       "  </thead>\n",
       "  <tbody>\n",
       "    <tr>\n",
       "      <th>0</th>\n",
       "      <td>892420643555336193</td>\n",
       "      <td>NaN</td>\n",
       "      <td>NaN</td>\n",
       "      <td>2017-08-01 16:23:56 +0000</td>\n",
       "      <td>&lt;a href=\"http://twitter.com/download/iphone\" r...</td>\n",
       "      <td>This is Phineas. He's a mystical boy. Only eve...</td>\n",
       "      <td>NaN</td>\n",
       "      <td>NaN</td>\n",
       "      <td>NaN</td>\n",
       "      <td>https://twitter.com/dog_rates/status/892420643...</td>\n",
       "      <td>13</td>\n",
       "      <td>10</td>\n",
       "      <td>Phineas</td>\n",
       "      <td>None</td>\n",
       "      <td>None</td>\n",
       "      <td>None</td>\n",
       "      <td>None</td>\n",
       "    </tr>\n",
       "    <tr>\n",
       "      <th>1</th>\n",
       "      <td>892177421306343426</td>\n",
       "      <td>NaN</td>\n",
       "      <td>NaN</td>\n",
       "      <td>2017-08-01 00:17:27 +0000</td>\n",
       "      <td>&lt;a href=\"http://twitter.com/download/iphone\" r...</td>\n",
       "      <td>This is Tilly. She's just checking pup on you....</td>\n",
       "      <td>NaN</td>\n",
       "      <td>NaN</td>\n",
       "      <td>NaN</td>\n",
       "      <td>https://twitter.com/dog_rates/status/892177421...</td>\n",
       "      <td>13</td>\n",
       "      <td>10</td>\n",
       "      <td>Tilly</td>\n",
       "      <td>None</td>\n",
       "      <td>None</td>\n",
       "      <td>None</td>\n",
       "      <td>None</td>\n",
       "    </tr>\n",
       "    <tr>\n",
       "      <th>2</th>\n",
       "      <td>891815181378084864</td>\n",
       "      <td>NaN</td>\n",
       "      <td>NaN</td>\n",
       "      <td>2017-07-31 00:18:03 +0000</td>\n",
       "      <td>&lt;a href=\"http://twitter.com/download/iphone\" r...</td>\n",
       "      <td>This is Archie. He is a rare Norwegian Pouncin...</td>\n",
       "      <td>NaN</td>\n",
       "      <td>NaN</td>\n",
       "      <td>NaN</td>\n",
       "      <td>https://twitter.com/dog_rates/status/891815181...</td>\n",
       "      <td>12</td>\n",
       "      <td>10</td>\n",
       "      <td>Archie</td>\n",
       "      <td>None</td>\n",
       "      <td>None</td>\n",
       "      <td>None</td>\n",
       "      <td>None</td>\n",
       "    </tr>\n",
       "    <tr>\n",
       "      <th>3</th>\n",
       "      <td>891689557279858688</td>\n",
       "      <td>NaN</td>\n",
       "      <td>NaN</td>\n",
       "      <td>2017-07-30 15:58:51 +0000</td>\n",
       "      <td>&lt;a href=\"http://twitter.com/download/iphone\" r...</td>\n",
       "      <td>This is Darla. She commenced a snooze mid meal...</td>\n",
       "      <td>NaN</td>\n",
       "      <td>NaN</td>\n",
       "      <td>NaN</td>\n",
       "      <td>https://twitter.com/dog_rates/status/891689557...</td>\n",
       "      <td>13</td>\n",
       "      <td>10</td>\n",
       "      <td>Darla</td>\n",
       "      <td>None</td>\n",
       "      <td>None</td>\n",
       "      <td>None</td>\n",
       "      <td>None</td>\n",
       "    </tr>\n",
       "    <tr>\n",
       "      <th>4</th>\n",
       "      <td>891327558926688256</td>\n",
       "      <td>NaN</td>\n",
       "      <td>NaN</td>\n",
       "      <td>2017-07-29 16:00:24 +0000</td>\n",
       "      <td>&lt;a href=\"http://twitter.com/download/iphone\" r...</td>\n",
       "      <td>This is Franklin. He would like you to stop ca...</td>\n",
       "      <td>NaN</td>\n",
       "      <td>NaN</td>\n",
       "      <td>NaN</td>\n",
       "      <td>https://twitter.com/dog_rates/status/891327558...</td>\n",
       "      <td>12</td>\n",
       "      <td>10</td>\n",
       "      <td>Franklin</td>\n",
       "      <td>None</td>\n",
       "      <td>None</td>\n",
       "      <td>None</td>\n",
       "      <td>None</td>\n",
       "    </tr>\n",
       "  </tbody>\n",
       "</table>\n",
       "</div>"
      ],
      "text/plain": [
       "             tweet_id  in_reply_to_status_id  in_reply_to_user_id  \\\n",
       "0  892420643555336193                    NaN                  NaN   \n",
       "1  892177421306343426                    NaN                  NaN   \n",
       "2  891815181378084864                    NaN                  NaN   \n",
       "3  891689557279858688                    NaN                  NaN   \n",
       "4  891327558926688256                    NaN                  NaN   \n",
       "\n",
       "                   timestamp  \\\n",
       "0  2017-08-01 16:23:56 +0000   \n",
       "1  2017-08-01 00:17:27 +0000   \n",
       "2  2017-07-31 00:18:03 +0000   \n",
       "3  2017-07-30 15:58:51 +0000   \n",
       "4  2017-07-29 16:00:24 +0000   \n",
       "\n",
       "                                              source  \\\n",
       "0  <a href=\"http://twitter.com/download/iphone\" r...   \n",
       "1  <a href=\"http://twitter.com/download/iphone\" r...   \n",
       "2  <a href=\"http://twitter.com/download/iphone\" r...   \n",
       "3  <a href=\"http://twitter.com/download/iphone\" r...   \n",
       "4  <a href=\"http://twitter.com/download/iphone\" r...   \n",
       "\n",
       "                                                text  retweeted_status_id  \\\n",
       "0  This is Phineas. He's a mystical boy. Only eve...                  NaN   \n",
       "1  This is Tilly. She's just checking pup on you....                  NaN   \n",
       "2  This is Archie. He is a rare Norwegian Pouncin...                  NaN   \n",
       "3  This is Darla. She commenced a snooze mid meal...                  NaN   \n",
       "4  This is Franklin. He would like you to stop ca...                  NaN   \n",
       "\n",
       "   retweeted_status_user_id retweeted_status_timestamp  \\\n",
       "0                       NaN                        NaN   \n",
       "1                       NaN                        NaN   \n",
       "2                       NaN                        NaN   \n",
       "3                       NaN                        NaN   \n",
       "4                       NaN                        NaN   \n",
       "\n",
       "                                       expanded_urls  rating_numerator  \\\n",
       "0  https://twitter.com/dog_rates/status/892420643...                13   \n",
       "1  https://twitter.com/dog_rates/status/892177421...                13   \n",
       "2  https://twitter.com/dog_rates/status/891815181...                12   \n",
       "3  https://twitter.com/dog_rates/status/891689557...                13   \n",
       "4  https://twitter.com/dog_rates/status/891327558...                12   \n",
       "\n",
       "   rating_denominator      name doggo floofer pupper puppo  \n",
       "0                  10   Phineas  None    None   None  None  \n",
       "1                  10     Tilly  None    None   None  None  \n",
       "2                  10    Archie  None    None   None  None  \n",
       "3                  10     Darla  None    None   None  None  \n",
       "4                  10  Franklin  None    None   None  None  "
      ]
     },
     "execution_count": 137,
     "metadata": {},
     "output_type": "execute_result"
    }
   ],
   "source": [
    "df_twitter_archive.head()"
   ]
  },
  {
   "cell_type": "code",
   "execution_count": 138,
   "id": "tutorial-action",
   "metadata": {},
   "outputs": [
    {
     "name": "stdout",
     "output_type": "stream",
     "text": [
      "<class 'pandas.core.frame.DataFrame'>\n",
      "RangeIndex: 2356 entries, 0 to 2355\n",
      "Data columns (total 17 columns):\n",
      " #   Column                      Non-Null Count  Dtype  \n",
      "---  ------                      --------------  -----  \n",
      " 0   tweet_id                    2356 non-null   int64  \n",
      " 1   in_reply_to_status_id       78 non-null     float64\n",
      " 2   in_reply_to_user_id         78 non-null     float64\n",
      " 3   timestamp                   2356 non-null   object \n",
      " 4   source                      2356 non-null   object \n",
      " 5   text                        2356 non-null   object \n",
      " 6   retweeted_status_id         181 non-null    float64\n",
      " 7   retweeted_status_user_id    181 non-null    float64\n",
      " 8   retweeted_status_timestamp  181 non-null    object \n",
      " 9   expanded_urls               2297 non-null   object \n",
      " 10  rating_numerator            2356 non-null   int64  \n",
      " 11  rating_denominator          2356 non-null   int64  \n",
      " 12  name                        2356 non-null   object \n",
      " 13  doggo                       2356 non-null   object \n",
      " 14  floofer                     2356 non-null   object \n",
      " 15  pupper                      2356 non-null   object \n",
      " 16  puppo                       2356 non-null   object \n",
      "dtypes: float64(4), int64(3), object(10)\n",
      "memory usage: 313.0+ KB\n"
     ]
    }
   ],
   "source": [
    "df_twitter_archive.info()"
   ]
  },
  {
   "cell_type": "code",
   "execution_count": 139,
   "id": "colored-credits",
   "metadata": {},
   "outputs": [
    {
     "data": {
      "text/plain": [
       "None        745\n",
       "a            55\n",
       "Charlie      12\n",
       "Lucy         11\n",
       "Oliver       11\n",
       "           ... \n",
       "Berkeley      1\n",
       "Ace           1\n",
       "Craig         1\n",
       "Buddah        1\n",
       "Butters       1\n",
       "Name: name, Length: 957, dtype: int64"
      ]
     },
     "execution_count": 139,
     "metadata": {},
     "output_type": "execute_result"
    }
   ],
   "source": [
    "df_twitter_archive.name.value_counts()"
   ]
  },
  {
   "cell_type": "code",
   "execution_count": 140,
   "id": "growing-flood",
   "metadata": {},
   "outputs": [
    {
     "data": {
      "text/plain": [
       "tweet_id                      2356\n",
       "in_reply_to_status_id           77\n",
       "in_reply_to_user_id             31\n",
       "timestamp                     2356\n",
       "source                           4\n",
       "text                          2356\n",
       "retweeted_status_id            181\n",
       "retweeted_status_user_id        25\n",
       "retweeted_status_timestamp     181\n",
       "expanded_urls                 2218\n",
       "rating_numerator                40\n",
       "rating_denominator              18\n",
       "name                           957\n",
       "doggo                            2\n",
       "floofer                          2\n",
       "pupper                           2\n",
       "puppo                            2\n",
       "dtype: int64"
      ]
     },
     "execution_count": 140,
     "metadata": {},
     "output_type": "execute_result"
    }
   ],
   "source": [
    "df_twitter_archive.nunique()\n"
   ]
  },
  {
   "cell_type": "code",
   "execution_count": 141,
   "id": "mental-hammer",
   "metadata": {},
   "outputs": [
    {
     "data": {
      "text/html": [
       "<div>\n",
       "<style scoped>\n",
       "    .dataframe tbody tr th:only-of-type {\n",
       "        vertical-align: middle;\n",
       "    }\n",
       "\n",
       "    .dataframe tbody tr th {\n",
       "        vertical-align: top;\n",
       "    }\n",
       "\n",
       "    .dataframe thead th {\n",
       "        text-align: right;\n",
       "    }\n",
       "</style>\n",
       "<table border=\"1\" class=\"dataframe\">\n",
       "  <thead>\n",
       "    <tr style=\"text-align: right;\">\n",
       "      <th></th>\n",
       "      <th>doggo</th>\n",
       "      <th>floofer</th>\n",
       "      <th>pupper</th>\n",
       "      <th>puppo</th>\n",
       "    </tr>\n",
       "  </thead>\n",
       "  <tbody>\n",
       "    <tr>\n",
       "      <th>count</th>\n",
       "      <td>2356</td>\n",
       "      <td>2356</td>\n",
       "      <td>2356</td>\n",
       "      <td>2356</td>\n",
       "    </tr>\n",
       "    <tr>\n",
       "      <th>unique</th>\n",
       "      <td>2</td>\n",
       "      <td>2</td>\n",
       "      <td>2</td>\n",
       "      <td>2</td>\n",
       "    </tr>\n",
       "    <tr>\n",
       "      <th>top</th>\n",
       "      <td>None</td>\n",
       "      <td>None</td>\n",
       "      <td>None</td>\n",
       "      <td>None</td>\n",
       "    </tr>\n",
       "    <tr>\n",
       "      <th>freq</th>\n",
       "      <td>2259</td>\n",
       "      <td>2346</td>\n",
       "      <td>2099</td>\n",
       "      <td>2326</td>\n",
       "    </tr>\n",
       "  </tbody>\n",
       "</table>\n",
       "</div>"
      ],
      "text/plain": [
       "       doggo floofer pupper puppo\n",
       "count   2356    2356   2356  2356\n",
       "unique     2       2      2     2\n",
       "top     None    None   None  None\n",
       "freq    2259    2346   2099  2326"
      ]
     },
     "execution_count": 141,
     "metadata": {},
     "output_type": "execute_result"
    }
   ],
   "source": [
    "df_twitter_archive[[\"doggo\" , \"floofer\" , \"pupper\" , \"puppo\"] ].describe()"
   ]
  },
  {
   "cell_type": "code",
   "execution_count": 142,
   "id": "decreased-cooperation",
   "metadata": {},
   "outputs": [
    {
     "data": {
      "text/html": [
       "<div>\n",
       "<style scoped>\n",
       "    .dataframe tbody tr th:only-of-type {\n",
       "        vertical-align: middle;\n",
       "    }\n",
       "\n",
       "    .dataframe tbody tr th {\n",
       "        vertical-align: top;\n",
       "    }\n",
       "\n",
       "    .dataframe thead th {\n",
       "        text-align: right;\n",
       "    }\n",
       "</style>\n",
       "<table border=\"1\" class=\"dataframe\">\n",
       "  <thead>\n",
       "    <tr style=\"text-align: right;\">\n",
       "      <th></th>\n",
       "      <th>tweet_id</th>\n",
       "      <th>jpg_url</th>\n",
       "      <th>img_num</th>\n",
       "      <th>p1</th>\n",
       "      <th>p1_conf</th>\n",
       "      <th>p1_dog</th>\n",
       "      <th>p2</th>\n",
       "      <th>p2_conf</th>\n",
       "      <th>p2_dog</th>\n",
       "      <th>p3</th>\n",
       "      <th>p3_conf</th>\n",
       "      <th>p3_dog</th>\n",
       "    </tr>\n",
       "  </thead>\n",
       "  <tbody>\n",
       "    <tr>\n",
       "      <th>0</th>\n",
       "      <td>666020888022790149</td>\n",
       "      <td>https://pbs.twimg.com/media/CT4udn0WwAA0aMy.jpg</td>\n",
       "      <td>1</td>\n",
       "      <td>Welsh_springer_spaniel</td>\n",
       "      <td>0.465074</td>\n",
       "      <td>True</td>\n",
       "      <td>collie</td>\n",
       "      <td>0.156665</td>\n",
       "      <td>True</td>\n",
       "      <td>Shetland_sheepdog</td>\n",
       "      <td>0.061428</td>\n",
       "      <td>True</td>\n",
       "    </tr>\n",
       "    <tr>\n",
       "      <th>1</th>\n",
       "      <td>666029285002620928</td>\n",
       "      <td>https://pbs.twimg.com/media/CT42GRgUYAA5iDo.jpg</td>\n",
       "      <td>1</td>\n",
       "      <td>redbone</td>\n",
       "      <td>0.506826</td>\n",
       "      <td>True</td>\n",
       "      <td>miniature_pinscher</td>\n",
       "      <td>0.074192</td>\n",
       "      <td>True</td>\n",
       "      <td>Rhodesian_ridgeback</td>\n",
       "      <td>0.072010</td>\n",
       "      <td>True</td>\n",
       "    </tr>\n",
       "    <tr>\n",
       "      <th>2</th>\n",
       "      <td>666033412701032449</td>\n",
       "      <td>https://pbs.twimg.com/media/CT4521TWwAEvMyu.jpg</td>\n",
       "      <td>1</td>\n",
       "      <td>German_shepherd</td>\n",
       "      <td>0.596461</td>\n",
       "      <td>True</td>\n",
       "      <td>malinois</td>\n",
       "      <td>0.138584</td>\n",
       "      <td>True</td>\n",
       "      <td>bloodhound</td>\n",
       "      <td>0.116197</td>\n",
       "      <td>True</td>\n",
       "    </tr>\n",
       "    <tr>\n",
       "      <th>3</th>\n",
       "      <td>666044226329800704</td>\n",
       "      <td>https://pbs.twimg.com/media/CT5Dr8HUEAA-lEu.jpg</td>\n",
       "      <td>1</td>\n",
       "      <td>Rhodesian_ridgeback</td>\n",
       "      <td>0.408143</td>\n",
       "      <td>True</td>\n",
       "      <td>redbone</td>\n",
       "      <td>0.360687</td>\n",
       "      <td>True</td>\n",
       "      <td>miniature_pinscher</td>\n",
       "      <td>0.222752</td>\n",
       "      <td>True</td>\n",
       "    </tr>\n",
       "    <tr>\n",
       "      <th>4</th>\n",
       "      <td>666049248165822465</td>\n",
       "      <td>https://pbs.twimg.com/media/CT5IQmsXIAAKY4A.jpg</td>\n",
       "      <td>1</td>\n",
       "      <td>miniature_pinscher</td>\n",
       "      <td>0.560311</td>\n",
       "      <td>True</td>\n",
       "      <td>Rottweiler</td>\n",
       "      <td>0.243682</td>\n",
       "      <td>True</td>\n",
       "      <td>Doberman</td>\n",
       "      <td>0.154629</td>\n",
       "      <td>True</td>\n",
       "    </tr>\n",
       "  </tbody>\n",
       "</table>\n",
       "</div>"
      ],
      "text/plain": [
       "             tweet_id                                          jpg_url  \\\n",
       "0  666020888022790149  https://pbs.twimg.com/media/CT4udn0WwAA0aMy.jpg   \n",
       "1  666029285002620928  https://pbs.twimg.com/media/CT42GRgUYAA5iDo.jpg   \n",
       "2  666033412701032449  https://pbs.twimg.com/media/CT4521TWwAEvMyu.jpg   \n",
       "3  666044226329800704  https://pbs.twimg.com/media/CT5Dr8HUEAA-lEu.jpg   \n",
       "4  666049248165822465  https://pbs.twimg.com/media/CT5IQmsXIAAKY4A.jpg   \n",
       "\n",
       "   img_num                      p1   p1_conf  p1_dog                  p2  \\\n",
       "0        1  Welsh_springer_spaniel  0.465074    True              collie   \n",
       "1        1                 redbone  0.506826    True  miniature_pinscher   \n",
       "2        1         German_shepherd  0.596461    True            malinois   \n",
       "3        1     Rhodesian_ridgeback  0.408143    True             redbone   \n",
       "4        1      miniature_pinscher  0.560311    True          Rottweiler   \n",
       "\n",
       "    p2_conf  p2_dog                   p3   p3_conf  p3_dog  \n",
       "0  0.156665    True    Shetland_sheepdog  0.061428    True  \n",
       "1  0.074192    True  Rhodesian_ridgeback  0.072010    True  \n",
       "2  0.138584    True           bloodhound  0.116197    True  \n",
       "3  0.360687    True   miniature_pinscher  0.222752    True  \n",
       "4  0.243682    True             Doberman  0.154629    True  "
      ]
     },
     "execution_count": 142,
     "metadata": {},
     "output_type": "execute_result"
    }
   ],
   "source": [
    "df_image_predictions.head()"
   ]
  },
  {
   "cell_type": "code",
   "execution_count": 143,
   "id": "prepared-uruguay",
   "metadata": {},
   "outputs": [
    {
     "name": "stdout",
     "output_type": "stream",
     "text": [
      "<class 'pandas.core.frame.DataFrame'>\n",
      "RangeIndex: 2075 entries, 0 to 2074\n",
      "Data columns (total 12 columns):\n",
      " #   Column    Non-Null Count  Dtype  \n",
      "---  ------    --------------  -----  \n",
      " 0   tweet_id  2075 non-null   int64  \n",
      " 1   jpg_url   2075 non-null   object \n",
      " 2   img_num   2075 non-null   int64  \n",
      " 3   p1        2075 non-null   object \n",
      " 4   p1_conf   2075 non-null   float64\n",
      " 5   p1_dog    2075 non-null   bool   \n",
      " 6   p2        2075 non-null   object \n",
      " 7   p2_conf   2075 non-null   float64\n",
      " 8   p2_dog    2075 non-null   bool   \n",
      " 9   p3        2075 non-null   object \n",
      " 10  p3_conf   2075 non-null   float64\n",
      " 11  p3_dog    2075 non-null   bool   \n",
      "dtypes: bool(3), float64(3), int64(2), object(4)\n",
      "memory usage: 152.1+ KB\n"
     ]
    }
   ],
   "source": [
    "df_image_predictions.info()"
   ]
  },
  {
   "cell_type": "code",
   "execution_count": 144,
   "id": "independent-reward",
   "metadata": {},
   "outputs": [
    {
     "data": {
      "text/plain": [
       "tweet_id            jpg_url                                          img_num  p1                      p1_conf   p1_dog  p2                           p2_conf   p2_dog  p3                        p3_conf   p3_dog\n",
       "666020888022790149  https://pbs.twimg.com/media/CT4udn0WwAA0aMy.jpg  1        Welsh_springer_spaniel  0.465074  True    collie                       0.156665  True    Shetland_sheepdog         0.061428  True      1\n",
       "761292947749015552  https://pbs.twimg.com/media/CpCn5aXXgAAOPTm.jpg  1        standard_poodle         0.660893  True    Samoyed                      0.314886  True    miniature_poodle          0.008834  True      1\n",
       "767122157629476866  https://pbs.twimg.com/media/CqVdiBJWIAEDZB4.jpg  2        toy_poodle              0.873841  True    miniature_poodle             0.059192  True    Irish_terrier             0.035306  True      1\n",
       "766793450729734144  https://pbs.twimg.com/media/CqQykxrWYAAlD8g.jpg  1        beagle                  0.451697  True    basset                       0.197513  True    bloodhound                0.072699  True      1\n",
       "766693177336135680  https://pbs.twimg.com/media/CqPXYLLXEAAU2HC.jpg  1        Doberman                0.948355  True    vizsla                       0.015032  True    Rhodesian_ridgeback       0.009631  True      1\n",
       "                                                                                                                                                                                                                    ..\n",
       "684097758874210310  https://pbs.twimg.com/media/CX5nR5oWsAAiclh.jpg  1        Labrador_retriever      0.627856  True    German_short-haired_pointer  0.173675  True    Chesapeake_Bay_retriever  0.041342  True      1\n",
       "683857920510050305  https://pbs.twimg.com/media/CX2NJmRWYAAxz_5.jpg  1        bluetick                0.174738  True    Shetland_sheepdog            0.126101  True    beagle                    0.122887  True      1\n",
       "683852578183077888  https://pbs.twimg.com/media/CX2ISqSWYAAEtCF.jpg  1        toy_poodle              0.551352  True    teddy                        0.180678  False   miniature_poodle          0.164095  True      1\n",
       "683849932751646720  https://pbs.twimg.com/media/CX2F4qNUQAAR6Cm.jpg  1        hog                     0.458855  False   Mexican_hairless             0.164906  True    wild_boar                 0.111700  False     1\n",
       "892420643555336193  https://pbs.twimg.com/media/DGKD1-bXoAAIAUK.jpg  1        orange                  0.097049  False   bagel                        0.085851  False   banana                    0.076110  False     1\n",
       "Length: 2075, dtype: int64"
      ]
     },
     "execution_count": 144,
     "metadata": {},
     "output_type": "execute_result"
    }
   ],
   "source": [
    "df_image_predictions.value_counts()"
   ]
  },
  {
   "cell_type": "code",
   "execution_count": 145,
   "id": "latin-large",
   "metadata": {},
   "outputs": [
    {
     "data": {
      "text/plain": [
       "tweet_id    2075\n",
       "jpg_url     2009\n",
       "img_num        4\n",
       "p1           378\n",
       "p1_conf     2006\n",
       "p1_dog         2\n",
       "p2           405\n",
       "p2_conf     2004\n",
       "p2_dog         2\n",
       "p3           408\n",
       "p3_conf     2006\n",
       "p3_dog         2\n",
       "dtype: int64"
      ]
     },
     "execution_count": 145,
     "metadata": {},
     "output_type": "execute_result"
    }
   ],
   "source": [
    "df_image_predictions.nunique()"
   ]
  },
  {
   "cell_type": "code",
   "execution_count": 146,
   "id": "romance-junction",
   "metadata": {},
   "outputs": [
    {
     "data": {
      "text/html": [
       "<div>\n",
       "<style scoped>\n",
       "    .dataframe tbody tr th:only-of-type {\n",
       "        vertical-align: middle;\n",
       "    }\n",
       "\n",
       "    .dataframe tbody tr th {\n",
       "        vertical-align: top;\n",
       "    }\n",
       "\n",
       "    .dataframe thead th {\n",
       "        text-align: right;\n",
       "    }\n",
       "</style>\n",
       "<table border=\"1\" class=\"dataframe\">\n",
       "  <thead>\n",
       "    <tr style=\"text-align: right;\">\n",
       "      <th></th>\n",
       "      <th>tweet_id</th>\n",
       "      <th>favorite_count</th>\n",
       "      <th>retweet_count</th>\n",
       "    </tr>\n",
       "  </thead>\n",
       "  <tbody>\n",
       "    <tr>\n",
       "      <th>0</th>\n",
       "      <td>892420643555336193</td>\n",
       "      <td>39467</td>\n",
       "      <td>8853</td>\n",
       "    </tr>\n",
       "    <tr>\n",
       "      <th>1</th>\n",
       "      <td>892177421306343426</td>\n",
       "      <td>33819</td>\n",
       "      <td>6514</td>\n",
       "    </tr>\n",
       "    <tr>\n",
       "      <th>2</th>\n",
       "      <td>891815181378084864</td>\n",
       "      <td>25461</td>\n",
       "      <td>4328</td>\n",
       "    </tr>\n",
       "    <tr>\n",
       "      <th>3</th>\n",
       "      <td>891689557279858688</td>\n",
       "      <td>42908</td>\n",
       "      <td>8964</td>\n",
       "    </tr>\n",
       "    <tr>\n",
       "      <th>4</th>\n",
       "      <td>891327558926688256</td>\n",
       "      <td>41048</td>\n",
       "      <td>9774</td>\n",
       "    </tr>\n",
       "  </tbody>\n",
       "</table>\n",
       "</div>"
      ],
      "text/plain": [
       "             tweet_id  favorite_count  retweet_count\n",
       "0  892420643555336193           39467           8853\n",
       "1  892177421306343426           33819           6514\n",
       "2  891815181378084864           25461           4328\n",
       "3  891689557279858688           42908           8964\n",
       "4  891327558926688256           41048           9774"
      ]
     },
     "execution_count": 146,
     "metadata": {},
     "output_type": "execute_result"
    }
   ],
   "source": [
    "df_tweet_json.head()"
   ]
  },
  {
   "cell_type": "code",
   "execution_count": 147,
   "id": "civilian-maria",
   "metadata": {},
   "outputs": [
    {
     "name": "stdout",
     "output_type": "stream",
     "text": [
      "<class 'pandas.core.frame.DataFrame'>\n",
      "RangeIndex: 2354 entries, 0 to 2353\n",
      "Data columns (total 3 columns):\n",
      " #   Column          Non-Null Count  Dtype\n",
      "---  ------          --------------  -----\n",
      " 0   tweet_id        2354 non-null   int64\n",
      " 1   favorite_count  2354 non-null   int64\n",
      " 2   retweet_count   2354 non-null   int64\n",
      "dtypes: int64(3)\n",
      "memory usage: 55.3 KB\n"
     ]
    }
   ],
   "source": [
    "df_tweet_json.info()"
   ]
  },
  {
   "cell_type": "code",
   "execution_count": 148,
   "id": "adequate-first",
   "metadata": {},
   "outputs": [
    {
     "data": {
      "text/plain": [
       "tweet_id          2354\n",
       "favorite_count    2007\n",
       "retweet_count     1724\n",
       "dtype: int64"
      ]
     },
     "execution_count": 148,
     "metadata": {},
     "output_type": "execute_result"
    }
   ],
   "source": [
    "df_tweet_json.nunique()"
   ]
  },
  {
   "cell_type": "code",
   "execution_count": 149,
   "id": "premier-discussion",
   "metadata": {},
   "outputs": [],
   "source": [
    "#------Required clean----\n",
    "#1-change timesatmp columns\n",
    "#2-clean source columns\n",
    "#3-dog stage\n",
    "#4-Drop retweets\n",
    "#5-Drop replies\n",
    "#6-remove unneeded columns\n",
    "#7- rename columns\n",
    "#8- fix rating"
   ]
  },
  {
   "cell_type": "markdown",
   "id": "numeric-lunch",
   "metadata": {},
   "source": [
    "# Tidiness Issues\n",
    "Merging the three dataframes, using the common tweet_id\n",
    "\n",
    "The puppo/doggo/floofer/pupper terms should be in one column"
   ]
  },
  {
   "cell_type": "markdown",
   "id": "widespread-poverty",
   "metadata": {},
   "source": [
    "# Make copy and merge data for start cleaning"
   ]
  },
  {
   "cell_type": "code",
   "execution_count": 150,
   "id": "auburn-thompson",
   "metadata": {},
   "outputs": [],
   "source": [
    "df_twitter_archive_clean = df_twitter_archive.copy()\n",
    "df_tweet_json_clean = df_tweet_json.copy()\n",
    "df_image_predictions_clean = df_image_predictions.copy()"
   ]
  },
  {
   "cell_type": "code",
   "execution_count": 151,
   "id": "timely-action",
   "metadata": {},
   "outputs": [
    {
     "data": {
      "text/html": [
       "<div>\n",
       "<style scoped>\n",
       "    .dataframe tbody tr th:only-of-type {\n",
       "        vertical-align: middle;\n",
       "    }\n",
       "\n",
       "    .dataframe tbody tr th {\n",
       "        vertical-align: top;\n",
       "    }\n",
       "\n",
       "    .dataframe thead th {\n",
       "        text-align: right;\n",
       "    }\n",
       "</style>\n",
       "<table border=\"1\" class=\"dataframe\">\n",
       "  <thead>\n",
       "    <tr style=\"text-align: right;\">\n",
       "      <th></th>\n",
       "      <th>tweet_id</th>\n",
       "      <th>in_reply_to_status_id</th>\n",
       "      <th>in_reply_to_user_id</th>\n",
       "      <th>timestamp</th>\n",
       "      <th>source</th>\n",
       "      <th>text</th>\n",
       "      <th>retweeted_status_id</th>\n",
       "      <th>retweeted_status_user_id</th>\n",
       "      <th>retweeted_status_timestamp</th>\n",
       "      <th>expanded_urls</th>\n",
       "      <th>...</th>\n",
       "      <th>p1_conf</th>\n",
       "      <th>p1_dog</th>\n",
       "      <th>p2</th>\n",
       "      <th>p2_conf</th>\n",
       "      <th>p2_dog</th>\n",
       "      <th>p3</th>\n",
       "      <th>p3_conf</th>\n",
       "      <th>p3_dog</th>\n",
       "      <th>favorite_count</th>\n",
       "      <th>retweet_count</th>\n",
       "    </tr>\n",
       "  </thead>\n",
       "  <tbody>\n",
       "    <tr>\n",
       "      <th>0</th>\n",
       "      <td>892420643555336193</td>\n",
       "      <td>NaN</td>\n",
       "      <td>NaN</td>\n",
       "      <td>2017-08-01 16:23:56 +0000</td>\n",
       "      <td>&lt;a href=\"http://twitter.com/download/iphone\" r...</td>\n",
       "      <td>This is Phineas. He's a mystical boy. Only eve...</td>\n",
       "      <td>NaN</td>\n",
       "      <td>NaN</td>\n",
       "      <td>NaN</td>\n",
       "      <td>https://twitter.com/dog_rates/status/892420643...</td>\n",
       "      <td>...</td>\n",
       "      <td>0.097049</td>\n",
       "      <td>False</td>\n",
       "      <td>bagel</td>\n",
       "      <td>0.085851</td>\n",
       "      <td>False</td>\n",
       "      <td>banana</td>\n",
       "      <td>0.076110</td>\n",
       "      <td>False</td>\n",
       "      <td>39467</td>\n",
       "      <td>8853</td>\n",
       "    </tr>\n",
       "    <tr>\n",
       "      <th>1</th>\n",
       "      <td>892177421306343426</td>\n",
       "      <td>NaN</td>\n",
       "      <td>NaN</td>\n",
       "      <td>2017-08-01 00:17:27 +0000</td>\n",
       "      <td>&lt;a href=\"http://twitter.com/download/iphone\" r...</td>\n",
       "      <td>This is Tilly. She's just checking pup on you....</td>\n",
       "      <td>NaN</td>\n",
       "      <td>NaN</td>\n",
       "      <td>NaN</td>\n",
       "      <td>https://twitter.com/dog_rates/status/892177421...</td>\n",
       "      <td>...</td>\n",
       "      <td>0.323581</td>\n",
       "      <td>True</td>\n",
       "      <td>Pekinese</td>\n",
       "      <td>0.090647</td>\n",
       "      <td>True</td>\n",
       "      <td>papillon</td>\n",
       "      <td>0.068957</td>\n",
       "      <td>True</td>\n",
       "      <td>33819</td>\n",
       "      <td>6514</td>\n",
       "    </tr>\n",
       "    <tr>\n",
       "      <th>2</th>\n",
       "      <td>891815181378084864</td>\n",
       "      <td>NaN</td>\n",
       "      <td>NaN</td>\n",
       "      <td>2017-07-31 00:18:03 +0000</td>\n",
       "      <td>&lt;a href=\"http://twitter.com/download/iphone\" r...</td>\n",
       "      <td>This is Archie. He is a rare Norwegian Pouncin...</td>\n",
       "      <td>NaN</td>\n",
       "      <td>NaN</td>\n",
       "      <td>NaN</td>\n",
       "      <td>https://twitter.com/dog_rates/status/891815181...</td>\n",
       "      <td>...</td>\n",
       "      <td>0.716012</td>\n",
       "      <td>True</td>\n",
       "      <td>malamute</td>\n",
       "      <td>0.078253</td>\n",
       "      <td>True</td>\n",
       "      <td>kelpie</td>\n",
       "      <td>0.031379</td>\n",
       "      <td>True</td>\n",
       "      <td>25461</td>\n",
       "      <td>4328</td>\n",
       "    </tr>\n",
       "    <tr>\n",
       "      <th>3</th>\n",
       "      <td>891689557279858688</td>\n",
       "      <td>NaN</td>\n",
       "      <td>NaN</td>\n",
       "      <td>2017-07-30 15:58:51 +0000</td>\n",
       "      <td>&lt;a href=\"http://twitter.com/download/iphone\" r...</td>\n",
       "      <td>This is Darla. She commenced a snooze mid meal...</td>\n",
       "      <td>NaN</td>\n",
       "      <td>NaN</td>\n",
       "      <td>NaN</td>\n",
       "      <td>https://twitter.com/dog_rates/status/891689557...</td>\n",
       "      <td>...</td>\n",
       "      <td>0.170278</td>\n",
       "      <td>False</td>\n",
       "      <td>Labrador_retriever</td>\n",
       "      <td>0.168086</td>\n",
       "      <td>True</td>\n",
       "      <td>spatula</td>\n",
       "      <td>0.040836</td>\n",
       "      <td>False</td>\n",
       "      <td>42908</td>\n",
       "      <td>8964</td>\n",
       "    </tr>\n",
       "    <tr>\n",
       "      <th>4</th>\n",
       "      <td>891327558926688256</td>\n",
       "      <td>NaN</td>\n",
       "      <td>NaN</td>\n",
       "      <td>2017-07-29 16:00:24 +0000</td>\n",
       "      <td>&lt;a href=\"http://twitter.com/download/iphone\" r...</td>\n",
       "      <td>This is Franklin. He would like you to stop ca...</td>\n",
       "      <td>NaN</td>\n",
       "      <td>NaN</td>\n",
       "      <td>NaN</td>\n",
       "      <td>https://twitter.com/dog_rates/status/891327558...</td>\n",
       "      <td>...</td>\n",
       "      <td>0.555712</td>\n",
       "      <td>True</td>\n",
       "      <td>English_springer</td>\n",
       "      <td>0.225770</td>\n",
       "      <td>True</td>\n",
       "      <td>German_short-haired_pointer</td>\n",
       "      <td>0.175219</td>\n",
       "      <td>True</td>\n",
       "      <td>41048</td>\n",
       "      <td>9774</td>\n",
       "    </tr>\n",
       "  </tbody>\n",
       "</table>\n",
       "<p>5 rows × 30 columns</p>\n",
       "</div>"
      ],
      "text/plain": [
       "             tweet_id  in_reply_to_status_id  in_reply_to_user_id  \\\n",
       "0  892420643555336193                    NaN                  NaN   \n",
       "1  892177421306343426                    NaN                  NaN   \n",
       "2  891815181378084864                    NaN                  NaN   \n",
       "3  891689557279858688                    NaN                  NaN   \n",
       "4  891327558926688256                    NaN                  NaN   \n",
       "\n",
       "                   timestamp  \\\n",
       "0  2017-08-01 16:23:56 +0000   \n",
       "1  2017-08-01 00:17:27 +0000   \n",
       "2  2017-07-31 00:18:03 +0000   \n",
       "3  2017-07-30 15:58:51 +0000   \n",
       "4  2017-07-29 16:00:24 +0000   \n",
       "\n",
       "                                              source  \\\n",
       "0  <a href=\"http://twitter.com/download/iphone\" r...   \n",
       "1  <a href=\"http://twitter.com/download/iphone\" r...   \n",
       "2  <a href=\"http://twitter.com/download/iphone\" r...   \n",
       "3  <a href=\"http://twitter.com/download/iphone\" r...   \n",
       "4  <a href=\"http://twitter.com/download/iphone\" r...   \n",
       "\n",
       "                                                text  retweeted_status_id  \\\n",
       "0  This is Phineas. He's a mystical boy. Only eve...                  NaN   \n",
       "1  This is Tilly. She's just checking pup on you....                  NaN   \n",
       "2  This is Archie. He is a rare Norwegian Pouncin...                  NaN   \n",
       "3  This is Darla. She commenced a snooze mid meal...                  NaN   \n",
       "4  This is Franklin. He would like you to stop ca...                  NaN   \n",
       "\n",
       "   retweeted_status_user_id retweeted_status_timestamp  \\\n",
       "0                       NaN                        NaN   \n",
       "1                       NaN                        NaN   \n",
       "2                       NaN                        NaN   \n",
       "3                       NaN                        NaN   \n",
       "4                       NaN                        NaN   \n",
       "\n",
       "                                       expanded_urls  ...   p1_conf  p1_dog  \\\n",
       "0  https://twitter.com/dog_rates/status/892420643...  ...  0.097049   False   \n",
       "1  https://twitter.com/dog_rates/status/892177421...  ...  0.323581    True   \n",
       "2  https://twitter.com/dog_rates/status/891815181...  ...  0.716012    True   \n",
       "3  https://twitter.com/dog_rates/status/891689557...  ...  0.170278   False   \n",
       "4  https://twitter.com/dog_rates/status/891327558...  ...  0.555712    True   \n",
       "\n",
       "                   p2   p2_conf p2_dog                           p3   p3_conf  \\\n",
       "0               bagel  0.085851  False                       banana  0.076110   \n",
       "1            Pekinese  0.090647   True                     papillon  0.068957   \n",
       "2            malamute  0.078253   True                       kelpie  0.031379   \n",
       "3  Labrador_retriever  0.168086   True                      spatula  0.040836   \n",
       "4    English_springer  0.225770   True  German_short-haired_pointer  0.175219   \n",
       "\n",
       "  p3_dog  favorite_count retweet_count  \n",
       "0  False           39467          8853  \n",
       "1   True           33819          6514  \n",
       "2   True           25461          4328  \n",
       "3  False           42908          8964  \n",
       "4   True           41048          9774  \n",
       "\n",
       "[5 rows x 30 columns]"
      ]
     },
     "execution_count": 151,
     "metadata": {},
     "output_type": "execute_result"
    }
   ],
   "source": [
    "df1=df_twitter_archive_clean.merge(df_image_predictions_clean , how='inner' , on='tweet_id')\n",
    "df=df1.merge(df_tweet_json_clean , how='inner' , on='tweet_id')\n",
    "df.head()"
   ]
  },
  {
   "cell_type": "code",
   "execution_count": 152,
   "id": "optimum-spending",
   "metadata": {},
   "outputs": [
    {
     "name": "stdout",
     "output_type": "stream",
     "text": [
      "<class 'pandas.core.frame.DataFrame'>\n",
      "Int64Index: 2073 entries, 0 to 2072\n",
      "Data columns (total 30 columns):\n",
      " #   Column                      Non-Null Count  Dtype  \n",
      "---  ------                      --------------  -----  \n",
      " 0   tweet_id                    2073 non-null   int64  \n",
      " 1   in_reply_to_status_id       23 non-null     float64\n",
      " 2   in_reply_to_user_id         23 non-null     float64\n",
      " 3   timestamp                   2073 non-null   object \n",
      " 4   source                      2073 non-null   object \n",
      " 5   text                        2073 non-null   object \n",
      " 6   retweeted_status_id         79 non-null     float64\n",
      " 7   retweeted_status_user_id    79 non-null     float64\n",
      " 8   retweeted_status_timestamp  79 non-null     object \n",
      " 9   expanded_urls               2073 non-null   object \n",
      " 10  rating_numerator            2073 non-null   int64  \n",
      " 11  rating_denominator          2073 non-null   int64  \n",
      " 12  name                        2073 non-null   object \n",
      " 13  doggo                       2073 non-null   object \n",
      " 14  floofer                     2073 non-null   object \n",
      " 15  pupper                      2073 non-null   object \n",
      " 16  puppo                       2073 non-null   object \n",
      " 17  jpg_url                     2073 non-null   object \n",
      " 18  img_num                     2073 non-null   int64  \n",
      " 19  p1                          2073 non-null   object \n",
      " 20  p1_conf                     2073 non-null   float64\n",
      " 21  p1_dog                      2073 non-null   bool   \n",
      " 22  p2                          2073 non-null   object \n",
      " 23  p2_conf                     2073 non-null   float64\n",
      " 24  p2_dog                      2073 non-null   bool   \n",
      " 25  p3                          2073 non-null   object \n",
      " 26  p3_conf                     2073 non-null   float64\n",
      " 27  p3_dog                      2073 non-null   bool   \n",
      " 28  favorite_count              2073 non-null   int64  \n",
      " 29  retweet_count               2073 non-null   int64  \n",
      "dtypes: bool(3), float64(7), int64(6), object(14)\n",
      "memory usage: 459.5+ KB\n"
     ]
    }
   ],
   "source": [
    "df.info()"
   ]
  },
  {
   "cell_type": "markdown",
   "id": "cellular-linux",
   "metadata": {},
   "source": [
    "# Cleaning Data"
   ]
  },
  {
   "cell_type": "markdown",
   "id": "thousand-vinyl",
   "metadata": {},
   "source": [
    "Define"
   ]
  },
  {
   "cell_type": "code",
   "execution_count": 153,
   "id": "quality-yahoo",
   "metadata": {},
   "outputs": [],
   "source": [
    "#1-change timesatmp columns as the timestamp should be datetime"
   ]
  },
  {
   "cell_type": "markdown",
   "id": "inappropriate-technology",
   "metadata": {},
   "source": [
    "Code"
   ]
  },
  {
   "cell_type": "code",
   "execution_count": 154,
   "id": "demonstrated-radio",
   "metadata": {},
   "outputs": [],
   "source": [
    "df['timestamp']=pd.to_datetime(df['timestamp'])"
   ]
  },
  {
   "cell_type": "markdown",
   "id": "southwest-passage",
   "metadata": {},
   "source": [
    "Test"
   ]
  },
  {
   "cell_type": "code",
   "execution_count": 155,
   "id": "informative-present",
   "metadata": {},
   "outputs": [
    {
     "name": "stdout",
     "output_type": "stream",
     "text": [
      "<class 'pandas.core.frame.DataFrame'>\n",
      "Int64Index: 2073 entries, 0 to 2072\n",
      "Data columns (total 30 columns):\n",
      " #   Column                      Non-Null Count  Dtype              \n",
      "---  ------                      --------------  -----              \n",
      " 0   tweet_id                    2073 non-null   int64              \n",
      " 1   in_reply_to_status_id       23 non-null     float64            \n",
      " 2   in_reply_to_user_id         23 non-null     float64            \n",
      " 3   timestamp                   2073 non-null   datetime64[ns, UTC]\n",
      " 4   source                      2073 non-null   object             \n",
      " 5   text                        2073 non-null   object             \n",
      " 6   retweeted_status_id         79 non-null     float64            \n",
      " 7   retweeted_status_user_id    79 non-null     float64            \n",
      " 8   retweeted_status_timestamp  79 non-null     object             \n",
      " 9   expanded_urls               2073 non-null   object             \n",
      " 10  rating_numerator            2073 non-null   int64              \n",
      " 11  rating_denominator          2073 non-null   int64              \n",
      " 12  name                        2073 non-null   object             \n",
      " 13  doggo                       2073 non-null   object             \n",
      " 14  floofer                     2073 non-null   object             \n",
      " 15  pupper                      2073 non-null   object             \n",
      " 16  puppo                       2073 non-null   object             \n",
      " 17  jpg_url                     2073 non-null   object             \n",
      " 18  img_num                     2073 non-null   int64              \n",
      " 19  p1                          2073 non-null   object             \n",
      " 20  p1_conf                     2073 non-null   float64            \n",
      " 21  p1_dog                      2073 non-null   bool               \n",
      " 22  p2                          2073 non-null   object             \n",
      " 23  p2_conf                     2073 non-null   float64            \n",
      " 24  p2_dog                      2073 non-null   bool               \n",
      " 25  p3                          2073 non-null   object             \n",
      " 26  p3_conf                     2073 non-null   float64            \n",
      " 27  p3_dog                      2073 non-null   bool               \n",
      " 28  favorite_count              2073 non-null   int64              \n",
      " 29  retweet_count               2073 non-null   int64              \n",
      "dtypes: bool(3), datetime64[ns, UTC](1), float64(7), int64(6), object(13)\n",
      "memory usage: 459.5+ KB\n"
     ]
    }
   ],
   "source": [
    "df.info()"
   ]
  },
  {
   "cell_type": "markdown",
   "id": "breeding-affiliate",
   "metadata": {},
   "source": [
    "Define"
   ]
  },
  {
   "cell_type": "code",
   "execution_count": 156,
   "id": "thorough-retirement",
   "metadata": {},
   "outputs": [],
   "source": [
    "#extract year, month and day to new columns and delete timesatmp colums"
   ]
  },
  {
   "cell_type": "markdown",
   "id": "stuffed-virginia",
   "metadata": {},
   "source": [
    "Code"
   ]
  },
  {
   "cell_type": "code",
   "execution_count": 157,
   "id": "documented-walker",
   "metadata": {},
   "outputs": [],
   "source": [
    "\n",
    "df['year'] = df['timestamp'].dt.year\n",
    "df['month'] = df['timestamp'].dt.month\n",
    "df['day'] = df['timestamp'].dt.day"
   ]
  },
  {
   "cell_type": "code",
   "execution_count": 158,
   "id": "absent-education",
   "metadata": {},
   "outputs": [],
   "source": [
    "df = df.drop('timestamp', 1)"
   ]
  },
  {
   "cell_type": "markdown",
   "id": "precious-humanitarian",
   "metadata": {},
   "source": [
    "Test"
   ]
  },
  {
   "cell_type": "code",
   "execution_count": 159,
   "id": "invisible-therapist",
   "metadata": {},
   "outputs": [
    {
     "name": "stdout",
     "output_type": "stream",
     "text": [
      "<class 'pandas.core.frame.DataFrame'>\n",
      "Int64Index: 2073 entries, 0 to 2072\n",
      "Data columns (total 32 columns):\n",
      " #   Column                      Non-Null Count  Dtype  \n",
      "---  ------                      --------------  -----  \n",
      " 0   tweet_id                    2073 non-null   int64  \n",
      " 1   in_reply_to_status_id       23 non-null     float64\n",
      " 2   in_reply_to_user_id         23 non-null     float64\n",
      " 3   source                      2073 non-null   object \n",
      " 4   text                        2073 non-null   object \n",
      " 5   retweeted_status_id         79 non-null     float64\n",
      " 6   retweeted_status_user_id    79 non-null     float64\n",
      " 7   retweeted_status_timestamp  79 non-null     object \n",
      " 8   expanded_urls               2073 non-null   object \n",
      " 9   rating_numerator            2073 non-null   int64  \n",
      " 10  rating_denominator          2073 non-null   int64  \n",
      " 11  name                        2073 non-null   object \n",
      " 12  doggo                       2073 non-null   object \n",
      " 13  floofer                     2073 non-null   object \n",
      " 14  pupper                      2073 non-null   object \n",
      " 15  puppo                       2073 non-null   object \n",
      " 16  jpg_url                     2073 non-null   object \n",
      " 17  img_num                     2073 non-null   int64  \n",
      " 18  p1                          2073 non-null   object \n",
      " 19  p1_conf                     2073 non-null   float64\n",
      " 20  p1_dog                      2073 non-null   bool   \n",
      " 21  p2                          2073 non-null   object \n",
      " 22  p2_conf                     2073 non-null   float64\n",
      " 23  p2_dog                      2073 non-null   bool   \n",
      " 24  p3                          2073 non-null   object \n",
      " 25  p3_conf                     2073 non-null   float64\n",
      " 26  p3_dog                      2073 non-null   bool   \n",
      " 27  favorite_count              2073 non-null   int64  \n",
      " 28  retweet_count               2073 non-null   int64  \n",
      " 29  year                        2073 non-null   int64  \n",
      " 30  month                       2073 non-null   int64  \n",
      " 31  day                         2073 non-null   int64  \n",
      "dtypes: bool(3), float64(7), int64(9), object(13)\n",
      "memory usage: 491.9+ KB\n"
     ]
    }
   ],
   "source": [
    "df.info()"
   ]
  },
  {
   "cell_type": "markdown",
   "id": "forward-tutorial",
   "metadata": {},
   "source": [
    "Define"
   ]
  },
  {
   "cell_type": "code",
   "execution_count": 160,
   "id": "scheduled-tension",
   "metadata": {},
   "outputs": [],
   "source": [
    "#2-clean source columns"
   ]
  },
  {
   "cell_type": "markdown",
   "id": "seven-failure",
   "metadata": {},
   "source": [
    "Code"
   ]
  },
  {
   "cell_type": "code",
   "execution_count": 161,
   "id": "novel-chest",
   "metadata": {},
   "outputs": [],
   "source": [
    "df['source'] = df['source'].str.extract(\">(\\w+\\D+)</a>\")"
   ]
  },
  {
   "cell_type": "markdown",
   "id": "elder-christmas",
   "metadata": {},
   "source": [
    "Test"
   ]
  },
  {
   "cell_type": "code",
   "execution_count": 162,
   "id": "victorian-wayne",
   "metadata": {},
   "outputs": [
    {
     "data": {
      "text/plain": [
       "Twitter for iPhone    2032\n",
       "Twitter Web Client      30\n",
       "TweetDeck               11\n",
       "Name: source, dtype: int64"
      ]
     },
     "execution_count": 162,
     "metadata": {},
     "output_type": "execute_result"
    }
   ],
   "source": [
    "df['source'].value_counts()"
   ]
  },
  {
   "cell_type": "code",
   "execution_count": 163,
   "id": "informed-blink",
   "metadata": {},
   "outputs": [
    {
     "name": "stdout",
     "output_type": "stream",
     "text": [
      "<class 'pandas.core.frame.DataFrame'>\n",
      "Int64Index: 2073 entries, 0 to 2072\n",
      "Data columns (total 32 columns):\n",
      " #   Column                      Non-Null Count  Dtype  \n",
      "---  ------                      --------------  -----  \n",
      " 0   tweet_id                    2073 non-null   int64  \n",
      " 1   in_reply_to_status_id       23 non-null     float64\n",
      " 2   in_reply_to_user_id         23 non-null     float64\n",
      " 3   source                      2073 non-null   object \n",
      " 4   text                        2073 non-null   object \n",
      " 5   retweeted_status_id         79 non-null     float64\n",
      " 6   retweeted_status_user_id    79 non-null     float64\n",
      " 7   retweeted_status_timestamp  79 non-null     object \n",
      " 8   expanded_urls               2073 non-null   object \n",
      " 9   rating_numerator            2073 non-null   int64  \n",
      " 10  rating_denominator          2073 non-null   int64  \n",
      " 11  name                        2073 non-null   object \n",
      " 12  doggo                       2073 non-null   object \n",
      " 13  floofer                     2073 non-null   object \n",
      " 14  pupper                      2073 non-null   object \n",
      " 15  puppo                       2073 non-null   object \n",
      " 16  jpg_url                     2073 non-null   object \n",
      " 17  img_num                     2073 non-null   int64  \n",
      " 18  p1                          2073 non-null   object \n",
      " 19  p1_conf                     2073 non-null   float64\n",
      " 20  p1_dog                      2073 non-null   bool   \n",
      " 21  p2                          2073 non-null   object \n",
      " 22  p2_conf                     2073 non-null   float64\n",
      " 23  p2_dog                      2073 non-null   bool   \n",
      " 24  p3                          2073 non-null   object \n",
      " 25  p3_conf                     2073 non-null   float64\n",
      " 26  p3_dog                      2073 non-null   bool   \n",
      " 27  favorite_count              2073 non-null   int64  \n",
      " 28  retweet_count               2073 non-null   int64  \n",
      " 29  year                        2073 non-null   int64  \n",
      " 30  month                       2073 non-null   int64  \n",
      " 31  day                         2073 non-null   int64  \n",
      "dtypes: bool(3), float64(7), int64(9), object(13)\n",
      "memory usage: 491.9+ KB\n"
     ]
    }
   ],
   "source": [
    "df.info()"
   ]
  },
  {
   "cell_type": "markdown",
   "id": "cooperative-chicago",
   "metadata": {},
   "source": [
    "Define"
   ]
  },
  {
   "cell_type": "code",
   "execution_count": 164,
   "id": "correct-measure",
   "metadata": {},
   "outputs": [
    {
     "data": {
      "text/plain": [
       "None     1993\n",
       "doggo      80\n",
       "Name: doggo, dtype: int64"
      ]
     },
     "execution_count": 164,
     "metadata": {},
     "output_type": "execute_result"
    }
   ],
   "source": [
    "#check the doggo column values\n",
    "df['doggo'].value_counts()"
   ]
  },
  {
   "cell_type": "code",
   "execution_count": 165,
   "id": "referenced-scanner",
   "metadata": {},
   "outputs": [
    {
     "data": {
      "text/plain": [
       "None       2065\n",
       "floofer       8\n",
       "Name: floofer, dtype: int64"
      ]
     },
     "execution_count": 165,
     "metadata": {},
     "output_type": "execute_result"
    }
   ],
   "source": [
    "# check the floofer column values\n",
    "df['floofer'].value_counts()"
   ]
  },
  {
   "cell_type": "code",
   "execution_count": 166,
   "id": "harmful-rapid",
   "metadata": {},
   "outputs": [
    {
     "data": {
      "text/plain": [
       "None      1852\n",
       "pupper     221\n",
       "Name: pupper, dtype: int64"
      ]
     },
     "execution_count": 166,
     "metadata": {},
     "output_type": "execute_result"
    }
   ],
   "source": [
    "# check the pupper column values\n",
    "df['pupper'].value_counts()"
   ]
  },
  {
   "cell_type": "code",
   "execution_count": 167,
   "id": "saving-possibility",
   "metadata": {},
   "outputs": [
    {
     "data": {
      "text/plain": [
       "None     2049\n",
       "puppo      24\n",
       "Name: puppo, dtype: int64"
      ]
     },
     "execution_count": 167,
     "metadata": {},
     "output_type": "execute_result"
    }
   ],
   "source": [
    "# check the puppo column values\n",
    "df['puppo'].value_counts()"
   ]
  },
  {
   "cell_type": "markdown",
   "id": "phantom-trance",
   "metadata": {},
   "source": [
    "Code"
   ]
  },
  {
   "cell_type": "code",
   "execution_count": 181,
   "id": "opposite-parks",
   "metadata": {},
   "outputs": [
    {
     "data": {
      "text/html": [
       "<div>\n",
       "<style scoped>\n",
       "    .dataframe tbody tr th:only-of-type {\n",
       "        vertical-align: middle;\n",
       "    }\n",
       "\n",
       "    .dataframe tbody tr th {\n",
       "        vertical-align: top;\n",
       "    }\n",
       "\n",
       "    .dataframe thead th {\n",
       "        text-align: right;\n",
       "    }\n",
       "</style>\n",
       "<table border=\"1\" class=\"dataframe\">\n",
       "  <thead>\n",
       "    <tr style=\"text-align: right;\">\n",
       "      <th></th>\n",
       "      <th>doggo</th>\n",
       "      <th>floofer</th>\n",
       "      <th>pupper</th>\n",
       "      <th>puppo</th>\n",
       "      <th>count</th>\n",
       "    </tr>\n",
       "  </thead>\n",
       "  <tbody>\n",
       "    <tr>\n",
       "      <th>0</th>\n",
       "      <td></td>\n",
       "      <td></td>\n",
       "      <td></td>\n",
       "      <td></td>\n",
       "      <td>1688</td>\n",
       "    </tr>\n",
       "    <tr>\n",
       "      <th>1</th>\n",
       "      <td></td>\n",
       "      <td></td>\n",
       "      <td></td>\n",
       "      <td>puppo</td>\n",
       "      <td>22</td>\n",
       "    </tr>\n",
       "    <tr>\n",
       "      <th>2</th>\n",
       "      <td></td>\n",
       "      <td></td>\n",
       "      <td>pupper</td>\n",
       "      <td></td>\n",
       "      <td>203</td>\n",
       "    </tr>\n",
       "    <tr>\n",
       "      <th>3</th>\n",
       "      <td></td>\n",
       "      <td>floofer</td>\n",
       "      <td></td>\n",
       "      <td></td>\n",
       "      <td>7</td>\n",
       "    </tr>\n",
       "    <tr>\n",
       "      <th>4</th>\n",
       "      <td>doggo</td>\n",
       "      <td></td>\n",
       "      <td></td>\n",
       "      <td></td>\n",
       "      <td>63</td>\n",
       "    </tr>\n",
       "    <tr>\n",
       "      <th>5</th>\n",
       "      <td>doggo</td>\n",
       "      <td></td>\n",
       "      <td></td>\n",
       "      <td>puppo</td>\n",
       "      <td>1</td>\n",
       "    </tr>\n",
       "    <tr>\n",
       "      <th>6</th>\n",
       "      <td>doggo</td>\n",
       "      <td></td>\n",
       "      <td>pupper</td>\n",
       "      <td></td>\n",
       "      <td>9</td>\n",
       "    </tr>\n",
       "    <tr>\n",
       "      <th>7</th>\n",
       "      <td>doggo</td>\n",
       "      <td>floofer</td>\n",
       "      <td></td>\n",
       "      <td></td>\n",
       "      <td>1</td>\n",
       "    </tr>\n",
       "  </tbody>\n",
       "</table>\n",
       "</div>"
      ],
      "text/plain": [
       "   doggo  floofer  pupper  puppo  count\n",
       "0                                  1688\n",
       "1                          puppo     22\n",
       "2                  pupper           203\n",
       "3         floofer                     7\n",
       "4  doggo                             63\n",
       "5  doggo                   puppo      1\n",
       "6  doggo           pupper             9\n",
       "7  doggo  floofer                     1"
      ]
     },
     "execution_count": 181,
     "metadata": {},
     "output_type": "execute_result"
    }
   ],
   "source": [
    "df.groupby([\"doggo\", \"floofer\", \"pupper\", \"puppo\"]).size().reset_index().rename(columns={0: \"count\"})"
   ]
  },
  {
   "cell_type": "code",
   "execution_count": 182,
   "id": "whole-supplier",
   "metadata": {},
   "outputs": [],
   "source": [
    "df['stage'] = df.doggo + df.floofer + df.pupper + df.puppo"
   ]
  },
  {
   "cell_type": "code",
   "execution_count": 183,
   "id": "national-wyoming",
   "metadata": {},
   "outputs": [],
   "source": [
    "df['stage'] = df.doggo + df.floofer + df.pupper + df.puppo\n",
    "df.loc[df.stage == 'doggopupper', 'stage'] = 'doggo, pupper'\n",
    "df.loc[df.stage == 'doggopuppo', 'stage'] = 'doggo, puppo'\n",
    "df.loc[df.stage == 'doggofloofer', 'stage'] = 'doggo, floofer'"
   ]
  },
  {
   "cell_type": "code",
   "execution_count": 184,
   "id": "expressed-school",
   "metadata": {},
   "outputs": [],
   "source": [
    "df.doggo.replace('None', '', inplace=True)\n",
    "df.doggo.replace(np.NaN, '', inplace=True)"
   ]
  },
  {
   "cell_type": "code",
   "execution_count": 185,
   "id": "architectural-dubai",
   "metadata": {},
   "outputs": [],
   "source": [
    "df.floofer.replace('None', '', inplace=True)\n",
    "df.floofer.replace(np.NaN, '', inplace=True)"
   ]
  },
  {
   "cell_type": "code",
   "execution_count": 186,
   "id": "pointed-assignment",
   "metadata": {},
   "outputs": [],
   "source": [
    "df.pupper.replace('None', '', inplace=True)\n",
    "df.pupper.replace(np.NaN, '', inplace=True)"
   ]
  },
  {
   "cell_type": "code",
   "execution_count": 187,
   "id": "liberal-honolulu",
   "metadata": {},
   "outputs": [],
   "source": [
    "df.puppo.replace('None', '', inplace=True)\n",
    "df.puppo.replace(np.NaN, '', inplace=True)"
   ]
  },
  {
   "cell_type": "markdown",
   "id": "understood-cookie",
   "metadata": {},
   "source": [
    "Test"
   ]
  },
  {
   "cell_type": "code",
   "execution_count": 188,
   "id": "conditional-panic",
   "metadata": {},
   "outputs": [
    {
     "data": {
      "text/plain": [
       "                  1688\n",
       "pupper             203\n",
       "doggo               63\n",
       "puppo               22\n",
       "doggo, pupper        9\n",
       "floofer              7\n",
       "doggo, puppo         1\n",
       "doggo, floofer       1\n",
       "Name: stage, dtype: int64"
      ]
     },
     "execution_count": 188,
     "metadata": {},
     "output_type": "execute_result"
    }
   ],
   "source": [
    "df['stage'].value_counts()"
   ]
  },
  {
   "cell_type": "markdown",
   "id": "monetary-prisoner",
   "metadata": {},
   "source": [
    "Define"
   ]
  },
  {
   "cell_type": "code",
   "execution_count": 189,
   "id": "artificial-lease",
   "metadata": {},
   "outputs": [],
   "source": [
    "#4-Drop retweets"
   ]
  },
  {
   "cell_type": "code",
   "execution_count": 190,
   "id": "opposed-compiler",
   "metadata": {},
   "outputs": [
    {
     "data": {
      "text/plain": [
       "0"
      ]
     },
     "execution_count": 190,
     "metadata": {},
     "output_type": "execute_result"
    }
   ],
   "source": [
    "df['retweeted_status_id'].value_counts().sum()"
   ]
  },
  {
   "cell_type": "markdown",
   "id": "danish-establishment",
   "metadata": {},
   "source": [
    "Code"
   ]
  },
  {
   "cell_type": "code",
   "execution_count": 191,
   "id": "forbidden-pharmaceutical",
   "metadata": {},
   "outputs": [],
   "source": [
    "\n",
    "df.drop(df[df[\"retweeted_status_id\"].notnull()].index , inplace=True)"
   ]
  },
  {
   "cell_type": "markdown",
   "id": "jewish-bronze",
   "metadata": {},
   "source": [
    "Test"
   ]
  },
  {
   "cell_type": "code",
   "execution_count": 192,
   "id": "korean-testing",
   "metadata": {},
   "outputs": [
    {
     "name": "stdout",
     "output_type": "stream",
     "text": [
      "<class 'pandas.core.frame.DataFrame'>\n",
      "Int64Index: 1994 entries, 0 to 2072\n",
      "Data columns (total 33 columns):\n",
      " #   Column                      Non-Null Count  Dtype  \n",
      "---  ------                      --------------  -----  \n",
      " 0   tweet_id                    1994 non-null   int64  \n",
      " 1   in_reply_to_status_id       23 non-null     float64\n",
      " 2   in_reply_to_user_id         23 non-null     float64\n",
      " 3   source                      1994 non-null   object \n",
      " 4   text                        1994 non-null   object \n",
      " 5   retweeted_status_id         0 non-null      float64\n",
      " 6   retweeted_status_user_id    0 non-null      float64\n",
      " 7   retweeted_status_timestamp  0 non-null      object \n",
      " 8   expanded_urls               1994 non-null   object \n",
      " 9   rating_numerator            1994 non-null   int64  \n",
      " 10  rating_denominator          1994 non-null   int64  \n",
      " 11  name                        1994 non-null   object \n",
      " 12  doggo                       1994 non-null   object \n",
      " 13  floofer                     1994 non-null   object \n",
      " 14  pupper                      1994 non-null   object \n",
      " 15  puppo                       1994 non-null   object \n",
      " 16  jpg_url                     1994 non-null   object \n",
      " 17  img_num                     1994 non-null   int64  \n",
      " 18  p1                          1994 non-null   object \n",
      " 19  p1_conf                     1994 non-null   float64\n",
      " 20  p1_dog                      1994 non-null   bool   \n",
      " 21  p2                          1994 non-null   object \n",
      " 22  p2_conf                     1994 non-null   float64\n",
      " 23  p2_dog                      1994 non-null   bool   \n",
      " 24  p3                          1994 non-null   object \n",
      " 25  p3_conf                     1994 non-null   float64\n",
      " 26  p3_dog                      1994 non-null   bool   \n",
      " 27  favorite_count              1994 non-null   int64  \n",
      " 28  retweet_count               1994 non-null   int64  \n",
      " 29  year                        1994 non-null   int64  \n",
      " 30  month                       1994 non-null   int64  \n",
      " 31  day                         1994 non-null   int64  \n",
      " 32  stage                       1994 non-null   object \n",
      "dtypes: bool(3), float64(7), int64(9), object(14)\n",
      "memory usage: 553.3+ KB\n"
     ]
    }
   ],
   "source": [
    "df.info()"
   ]
  },
  {
   "cell_type": "markdown",
   "id": "organized-interest",
   "metadata": {},
   "source": [
    "Define"
   ]
  },
  {
   "cell_type": "code",
   "execution_count": 193,
   "id": "owned-spectacular",
   "metadata": {},
   "outputs": [],
   "source": [
    "#5-favorite_count & retweet_count change to int"
   ]
  },
  {
   "cell_type": "markdown",
   "id": "authentic-manufacturer",
   "metadata": {},
   "source": [
    "code"
   ]
  },
  {
   "cell_type": "code",
   "execution_count": 194,
   "id": "crucial-alarm",
   "metadata": {},
   "outputs": [],
   "source": [
    "df['favorite_count']=df['favorite_count'].astype('int')\n",
    "df['retweet_count']=df['retweet_count'].astype('int')"
   ]
  },
  {
   "cell_type": "markdown",
   "id": "shared-evaluation",
   "metadata": {},
   "source": [
    "test"
   ]
  },
  {
   "cell_type": "code",
   "execution_count": 195,
   "id": "australian-application",
   "metadata": {},
   "outputs": [
    {
     "name": "stdout",
     "output_type": "stream",
     "text": [
      "<class 'pandas.core.frame.DataFrame'>\n",
      "Int64Index: 1994 entries, 0 to 2072\n",
      "Data columns (total 33 columns):\n",
      " #   Column                      Non-Null Count  Dtype  \n",
      "---  ------                      --------------  -----  \n",
      " 0   tweet_id                    1994 non-null   int64  \n",
      " 1   in_reply_to_status_id       23 non-null     float64\n",
      " 2   in_reply_to_user_id         23 non-null     float64\n",
      " 3   source                      1994 non-null   object \n",
      " 4   text                        1994 non-null   object \n",
      " 5   retweeted_status_id         0 non-null      float64\n",
      " 6   retweeted_status_user_id    0 non-null      float64\n",
      " 7   retweeted_status_timestamp  0 non-null      object \n",
      " 8   expanded_urls               1994 non-null   object \n",
      " 9   rating_numerator            1994 non-null   int64  \n",
      " 10  rating_denominator          1994 non-null   int64  \n",
      " 11  name                        1994 non-null   object \n",
      " 12  doggo                       1994 non-null   object \n",
      " 13  floofer                     1994 non-null   object \n",
      " 14  pupper                      1994 non-null   object \n",
      " 15  puppo                       1994 non-null   object \n",
      " 16  jpg_url                     1994 non-null   object \n",
      " 17  img_num                     1994 non-null   int64  \n",
      " 18  p1                          1994 non-null   object \n",
      " 19  p1_conf                     1994 non-null   float64\n",
      " 20  p1_dog                      1994 non-null   bool   \n",
      " 21  p2                          1994 non-null   object \n",
      " 22  p2_conf                     1994 non-null   float64\n",
      " 23  p2_dog                      1994 non-null   bool   \n",
      " 24  p3                          1994 non-null   object \n",
      " 25  p3_conf                     1994 non-null   float64\n",
      " 26  p3_dog                      1994 non-null   bool   \n",
      " 27  favorite_count              1994 non-null   int64  \n",
      " 28  retweet_count               1994 non-null   int64  \n",
      " 29  year                        1994 non-null   int64  \n",
      " 30  month                       1994 non-null   int64  \n",
      " 31  day                         1994 non-null   int64  \n",
      " 32  stage                       1994 non-null   object \n",
      "dtypes: bool(3), float64(7), int64(9), object(14)\n",
      "memory usage: 553.3+ KB\n"
     ]
    }
   ],
   "source": [
    "df.info()"
   ]
  },
  {
   "cell_type": "markdown",
   "id": "driving-applicant",
   "metadata": {},
   "source": [
    "Define"
   ]
  },
  {
   "cell_type": "code",
   "execution_count": 196,
   "id": "intended-lodge",
   "metadata": {},
   "outputs": [],
   "source": [
    "#6-remove unneeded columns"
   ]
  },
  {
   "cell_type": "markdown",
   "id": "fifty-annex",
   "metadata": {},
   "source": [
    "Code"
   ]
  },
  {
   "cell_type": "code",
   "execution_count": 197,
   "id": "accompanied-suite",
   "metadata": {},
   "outputs": [],
   "source": [
    "df = df.drop(columns=['in_reply_to_status_id',\n",
    "                                                'in_reply_to_user_id',\n",
    "                                                'retweeted_status_id',\n",
    "                                                'retweeted_status_user_id',\n",
    "                                                'retweeted_status_timestamp',\n",
    "                                                'expanded_urls',\n",
    "                                                'jpg_url',\n",
    "                                                'p2',\n",
    "                                                'p2_conf',\n",
    "                                                'p2_dog',\n",
    "                                                'p3_conf',\n",
    "                                                'p3_dog',\n",
    "                                                'p3'])"
   ]
  },
  {
   "cell_type": "markdown",
   "id": "comprehensive-uncle",
   "metadata": {},
   "source": [
    "Test"
   ]
  },
  {
   "cell_type": "code",
   "execution_count": 198,
   "id": "alert-canadian",
   "metadata": {},
   "outputs": [
    {
     "name": "stdout",
     "output_type": "stream",
     "text": [
      "<class 'pandas.core.frame.DataFrame'>\n",
      "Int64Index: 1994 entries, 0 to 2072\n",
      "Data columns (total 20 columns):\n",
      " #   Column              Non-Null Count  Dtype  \n",
      "---  ------              --------------  -----  \n",
      " 0   tweet_id            1994 non-null   int64  \n",
      " 1   source              1994 non-null   object \n",
      " 2   text                1994 non-null   object \n",
      " 3   rating_numerator    1994 non-null   int64  \n",
      " 4   rating_denominator  1994 non-null   int64  \n",
      " 5   name                1994 non-null   object \n",
      " 6   doggo               1994 non-null   object \n",
      " 7   floofer             1994 non-null   object \n",
      " 8   pupper              1994 non-null   object \n",
      " 9   puppo               1994 non-null   object \n",
      " 10  img_num             1994 non-null   int64  \n",
      " 11  p1                  1994 non-null   object \n",
      " 12  p1_conf             1994 non-null   float64\n",
      " 13  p1_dog              1994 non-null   bool   \n",
      " 14  favorite_count      1994 non-null   int64  \n",
      " 15  retweet_count       1994 non-null   int64  \n",
      " 16  year                1994 non-null   int64  \n",
      " 17  month               1994 non-null   int64  \n",
      " 18  day                 1994 non-null   int64  \n",
      " 19  stage               1994 non-null   object \n",
      "dtypes: bool(1), float64(1), int64(9), object(9)\n",
      "memory usage: 378.0+ KB\n"
     ]
    }
   ],
   "source": [
    "df.info()"
   ]
  },
  {
   "cell_type": "markdown",
   "id": "expressed-relay",
   "metadata": {},
   "source": [
    "Define"
   ]
  },
  {
   "cell_type": "code",
   "execution_count": 199,
   "id": "younger-crossing",
   "metadata": {},
   "outputs": [],
   "source": [
    "#7- rename columns"
   ]
  },
  {
   "cell_type": "markdown",
   "id": "fantastic-change",
   "metadata": {},
   "source": [
    "Code"
   ]
  },
  {
   "cell_type": "code",
   "execution_count": 200,
   "id": "constant-ecuador",
   "metadata": {},
   "outputs": [],
   "source": [
    "df.rename(columns={'p1':'prediction', 'p1_conf':'prediction_confidence' ,'p1_dog':'prediction_dog'} , inplace=True)"
   ]
  },
  {
   "cell_type": "markdown",
   "id": "superior-repair",
   "metadata": {},
   "source": [
    "Test"
   ]
  },
  {
   "cell_type": "code",
   "execution_count": 201,
   "id": "departmental-operation",
   "metadata": {},
   "outputs": [
    {
     "name": "stdout",
     "output_type": "stream",
     "text": [
      "<class 'pandas.core.frame.DataFrame'>\n",
      "Int64Index: 1994 entries, 0 to 2072\n",
      "Data columns (total 20 columns):\n",
      " #   Column                 Non-Null Count  Dtype  \n",
      "---  ------                 --------------  -----  \n",
      " 0   tweet_id               1994 non-null   int64  \n",
      " 1   source                 1994 non-null   object \n",
      " 2   text                   1994 non-null   object \n",
      " 3   rating_numerator       1994 non-null   int64  \n",
      " 4   rating_denominator     1994 non-null   int64  \n",
      " 5   name                   1994 non-null   object \n",
      " 6   doggo                  1994 non-null   object \n",
      " 7   floofer                1994 non-null   object \n",
      " 8   pupper                 1994 non-null   object \n",
      " 9   puppo                  1994 non-null   object \n",
      " 10  img_num                1994 non-null   int64  \n",
      " 11  prediction             1994 non-null   object \n",
      " 12  prediction_confidence  1994 non-null   float64\n",
      " 13  prediction_dog         1994 non-null   bool   \n",
      " 14  favorite_count         1994 non-null   int64  \n",
      " 15  retweet_count          1994 non-null   int64  \n",
      " 16  year                   1994 non-null   int64  \n",
      " 17  month                  1994 non-null   int64  \n",
      " 18  day                    1994 non-null   int64  \n",
      " 19  stage                  1994 non-null   object \n",
      "dtypes: bool(1), float64(1), int64(9), object(9)\n",
      "memory usage: 378.0+ KB\n"
     ]
    }
   ],
   "source": [
    "df.info()"
   ]
  },
  {
   "cell_type": "markdown",
   "id": "forward-guidance",
   "metadata": {},
   "source": [
    "Define"
   ]
  },
  {
   "cell_type": "code",
   "execution_count": 202,
   "id": "constant-afternoon",
   "metadata": {},
   "outputs": [],
   "source": [
    "#8-rating"
   ]
  },
  {
   "cell_type": "code",
   "execution_count": 207,
   "id": "human-india",
   "metadata": {},
   "outputs": [
    {
     "data": {
      "text/plain": [
       "12       450\n",
       "10       419\n",
       "11       396\n",
       "13       261\n",
       "9        151\n",
       "8         95\n",
       "7         52\n",
       "14        35\n",
       "6         32\n",
       "5         32\n",
       "3         19\n",
       "4         16\n",
       "2          9\n",
       "1          5\n",
       "0          2\n",
       "165        1\n",
       "143        1\n",
       "84         1\n",
       "50         1\n",
       "420        1\n",
       "13.5       1\n",
       "11.26      1\n",
       "80         1\n",
       "45         1\n",
       "24         1\n",
       "44         1\n",
       "144        1\n",
       "11.27      1\n",
       "88         1\n",
       "204        1\n",
       "60         1\n",
       "121        1\n",
       "1776       1\n",
       "99         1\n",
       "9.75       1\n",
       "Name: rating_numerator, dtype: int64"
      ]
     },
     "execution_count": 207,
     "metadata": {},
     "output_type": "execute_result"
    }
   ],
   "source": [
    "df['rating_numerator'].value_counts()"
   ]
  },
  {
   "cell_type": "markdown",
   "id": "dependent-entry",
   "metadata": {},
   "source": [
    "Code"
   ]
  },
  {
   "cell_type": "code",
   "execution_count": 208,
   "id": "noticed-statistics",
   "metadata": {},
   "outputs": [],
   "source": [
    "rating= df.text.str.extract('((?:\\d+\\.)?\\d+)\\/(\\d+)', expand=True).astype('float')\n",
    "df.rating_numerator = ratings\n"
   ]
  },
  {
   "cell_type": "markdown",
   "id": "oriented-packet",
   "metadata": {},
   "source": [
    "Test"
   ]
  },
  {
   "cell_type": "code",
   "execution_count": 209,
   "id": "hazardous-jamaica",
   "metadata": {},
   "outputs": [
    {
     "name": "stdout",
     "output_type": "stream",
     "text": [
      "<class 'pandas.core.frame.DataFrame'>\n",
      "Int64Index: 1994 entries, 0 to 2072\n",
      "Data columns (total 20 columns):\n",
      " #   Column                 Non-Null Count  Dtype  \n",
      "---  ------                 --------------  -----  \n",
      " 0   tweet_id               1994 non-null   int64  \n",
      " 1   source                 1994 non-null   object \n",
      " 2   text                   1994 non-null   object \n",
      " 3   rating_numerator       1994 non-null   object \n",
      " 4   rating_denominator     1994 non-null   int64  \n",
      " 5   name                   1994 non-null   object \n",
      " 6   doggo                  1994 non-null   object \n",
      " 7   floofer                1994 non-null   object \n",
      " 8   pupper                 1994 non-null   object \n",
      " 9   puppo                  1994 non-null   object \n",
      " 10  img_num                1994 non-null   int64  \n",
      " 11  prediction             1994 non-null   object \n",
      " 12  prediction_confidence  1994 non-null   float64\n",
      " 13  prediction_dog         1994 non-null   bool   \n",
      " 14  favorite_count         1994 non-null   int64  \n",
      " 15  retweet_count          1994 non-null   int64  \n",
      " 16  year                   1994 non-null   int64  \n",
      " 17  month                  1994 non-null   int64  \n",
      " 18  day                    1994 non-null   int64  \n",
      " 19  stage                  1994 non-null   object \n",
      "dtypes: bool(1), float64(1), int64(8), object(10)\n",
      "memory usage: 378.0+ KB\n"
     ]
    }
   ],
   "source": [
    "df.info()"
   ]
  },
  {
   "cell_type": "code",
   "execution_count": 210,
   "id": "appropriate-livestock",
   "metadata": {},
   "outputs": [
    {
     "data": {
      "text/plain": [
       "12       450\n",
       "10       419\n",
       "11       396\n",
       "13       261\n",
       "9        151\n",
       "8         95\n",
       "7         52\n",
       "14        35\n",
       "6         32\n",
       "5         32\n",
       "3         19\n",
       "4         16\n",
       "2          9\n",
       "1          5\n",
       "0          2\n",
       "165        1\n",
       "143        1\n",
       "84         1\n",
       "50         1\n",
       "420        1\n",
       "13.5       1\n",
       "11.26      1\n",
       "80         1\n",
       "45         1\n",
       "24         1\n",
       "44         1\n",
       "144        1\n",
       "11.27      1\n",
       "88         1\n",
       "204        1\n",
       "60         1\n",
       "121        1\n",
       "1776       1\n",
       "99         1\n",
       "9.75       1\n",
       "Name: rating_numerator, dtype: int64"
      ]
     },
     "execution_count": 210,
     "metadata": {},
     "output_type": "execute_result"
    }
   ],
   "source": [
    "df['rating_numerator'].value_counts()"
   ]
  },
  {
   "cell_type": "markdown",
   "id": "limited-houston",
   "metadata": {},
   "source": [
    "Define"
   ]
  },
  {
   "cell_type": "code",
   "execution_count": 211,
   "id": "residential-principal",
   "metadata": {},
   "outputs": [],
   "source": [
    "# 9 tweet_id: is int, should be type object as no calculation is needed"
   ]
  },
  {
   "cell_type": "code",
   "execution_count": 212,
   "id": "healthy-cardiff",
   "metadata": {},
   "outputs": [],
   "source": [
    "df['tweet_id']=df['tweet_id'].astype('str')"
   ]
  },
  {
   "cell_type": "code",
   "execution_count": 213,
   "id": "sized-myrtle",
   "metadata": {},
   "outputs": [
    {
     "name": "stdout",
     "output_type": "stream",
     "text": [
      "<class 'pandas.core.frame.DataFrame'>\n",
      "Int64Index: 1994 entries, 0 to 2072\n",
      "Data columns (total 20 columns):\n",
      " #   Column                 Non-Null Count  Dtype  \n",
      "---  ------                 --------------  -----  \n",
      " 0   tweet_id               1994 non-null   object \n",
      " 1   source                 1994 non-null   object \n",
      " 2   text                   1994 non-null   object \n",
      " 3   rating_numerator       1994 non-null   object \n",
      " 4   rating_denominator     1994 non-null   int64  \n",
      " 5   name                   1994 non-null   object \n",
      " 6   doggo                  1994 non-null   object \n",
      " 7   floofer                1994 non-null   object \n",
      " 8   pupper                 1994 non-null   object \n",
      " 9   puppo                  1994 non-null   object \n",
      " 10  img_num                1994 non-null   int64  \n",
      " 11  prediction             1994 non-null   object \n",
      " 12  prediction_confidence  1994 non-null   float64\n",
      " 13  prediction_dog         1994 non-null   bool   \n",
      " 14  favorite_count         1994 non-null   int64  \n",
      " 15  retweet_count          1994 non-null   int64  \n",
      " 16  year                   1994 non-null   int64  \n",
      " 17  month                  1994 non-null   int64  \n",
      " 18  day                    1994 non-null   int64  \n",
      " 19  stage                  1994 non-null   object \n",
      "dtypes: bool(1), float64(1), int64(7), object(11)\n",
      "memory usage: 378.0+ KB\n"
     ]
    }
   ],
   "source": [
    "df.info()"
   ]
  },
  {
   "cell_type": "markdown",
   "id": "touched-collectible",
   "metadata": {},
   "source": [
    "Define"
   ]
  },
  {
   "cell_type": "code",
   "execution_count": 214,
   "id": "lonely-horizontal",
   "metadata": {},
   "outputs": [
    {
     "data": {
      "text/plain": [
       "None        546\n",
       "a            55\n",
       "Charlie      11\n",
       "Cooper       10\n",
       "Lucy         10\n",
       "           ... \n",
       "Mojo          1\n",
       "Berkeley      1\n",
       "Ace           1\n",
       "Craig         1\n",
       "Butters       1\n",
       "Name: name, Length: 936, dtype: int64"
      ]
     },
     "execution_count": 214,
     "metadata": {},
     "output_type": "execute_result"
    }
   ],
   "source": [
    "#10 correct missing_names \n",
    "df['name'].value_counts()"
   ]
  },
  {
   "cell_type": "markdown",
   "id": "herbal-moisture",
   "metadata": {},
   "source": [
    "Code"
   ]
  },
  {
   "cell_type": "code",
   "execution_count": 235,
   "id": "quality-fitting",
   "metadata": {},
   "outputs": [
    {
     "name": "stderr",
     "output_type": "stream",
     "text": [
      "<ipython-input-235-1aacadb853ec>:1: FutureWarning: The default value of regex will change from True to False in a future version.\n",
      "  df['name'] = df['name'].str.replace('^[a-z]+', 'None')\n"
     ]
    }
   ],
   "source": [
    "df['name'] = df['name'].str.replace('^[a-z]+', 'None')\n"
   ]
  },
  {
   "cell_type": "markdown",
   "id": "timely-bolivia",
   "metadata": {},
   "source": [
    "Test"
   ]
  },
  {
   "cell_type": "code",
   "execution_count": 216,
   "id": "adjusted-software",
   "metadata": {},
   "outputs": [
    {
     "data": {
      "text/plain": [
       "None        644\n",
       "Charlie      11\n",
       "Lucy         10\n",
       "Cooper       10\n",
       "Oliver       10\n",
       "           ... \n",
       "Mojo          1\n",
       "Caryl         1\n",
       "Berkeley      1\n",
       "Ace           1\n",
       "Kawhi         1\n",
       "Name: name, Length: 914, dtype: int64"
      ]
     },
     "execution_count": 216,
     "metadata": {},
     "output_type": "execute_result"
    }
   ],
   "source": [
    "df['name'].value_counts()"
   ]
  },
  {
   "cell_type": "code",
   "execution_count": 217,
   "id": "bridal-explorer",
   "metadata": {},
   "outputs": [
    {
     "name": "stdout",
     "output_type": "stream",
     "text": [
      "<class 'pandas.core.frame.DataFrame'>\n",
      "Int64Index: 1994 entries, 0 to 2072\n",
      "Data columns (total 20 columns):\n",
      " #   Column                 Non-Null Count  Dtype  \n",
      "---  ------                 --------------  -----  \n",
      " 0   tweet_id               1994 non-null   object \n",
      " 1   source                 1994 non-null   object \n",
      " 2   text                   1994 non-null   object \n",
      " 3   rating_numerator       1994 non-null   object \n",
      " 4   rating_denominator     1994 non-null   int64  \n",
      " 5   name                   1994 non-null   object \n",
      " 6   doggo                  1994 non-null   object \n",
      " 7   floofer                1994 non-null   object \n",
      " 8   pupper                 1994 non-null   object \n",
      " 9   puppo                  1994 non-null   object \n",
      " 10  img_num                1994 non-null   int64  \n",
      " 11  prediction             1994 non-null   object \n",
      " 12  prediction_confidence  1994 non-null   float64\n",
      " 13  prediction_dog         1994 non-null   bool   \n",
      " 14  favorite_count         1994 non-null   int64  \n",
      " 15  retweet_count          1994 non-null   int64  \n",
      " 16  year                   1994 non-null   int64  \n",
      " 17  month                  1994 non-null   int64  \n",
      " 18  day                    1994 non-null   int64  \n",
      " 19  stage                  1994 non-null   object \n",
      "dtypes: bool(1), float64(1), int64(7), object(11)\n",
      "memory usage: 378.0+ KB\n"
     ]
    }
   ],
   "source": [
    "df.info()"
   ]
  },
  {
   "cell_type": "code",
   "execution_count": 218,
   "id": "endless-right",
   "metadata": {},
   "outputs": [
    {
     "data": {
      "text/html": [
       "<div>\n",
       "<style scoped>\n",
       "    .dataframe tbody tr th:only-of-type {\n",
       "        vertical-align: middle;\n",
       "    }\n",
       "\n",
       "    .dataframe tbody tr th {\n",
       "        vertical-align: top;\n",
       "    }\n",
       "\n",
       "    .dataframe thead th {\n",
       "        text-align: right;\n",
       "    }\n",
       "</style>\n",
       "<table border=\"1\" class=\"dataframe\">\n",
       "  <thead>\n",
       "    <tr style=\"text-align: right;\">\n",
       "      <th></th>\n",
       "      <th>tweet_id</th>\n",
       "      <th>source</th>\n",
       "      <th>text</th>\n",
       "      <th>rating_numerator</th>\n",
       "      <th>rating_denominator</th>\n",
       "      <th>name</th>\n",
       "      <th>doggo</th>\n",
       "      <th>floofer</th>\n",
       "      <th>pupper</th>\n",
       "      <th>puppo</th>\n",
       "      <th>img_num</th>\n",
       "      <th>prediction</th>\n",
       "      <th>prediction_confidence</th>\n",
       "      <th>prediction_dog</th>\n",
       "      <th>favorite_count</th>\n",
       "      <th>retweet_count</th>\n",
       "      <th>year</th>\n",
       "      <th>month</th>\n",
       "      <th>day</th>\n",
       "      <th>stage</th>\n",
       "    </tr>\n",
       "  </thead>\n",
       "  <tbody>\n",
       "    <tr>\n",
       "      <th>0</th>\n",
       "      <td>892420643555336193</td>\n",
       "      <td>Twitter for iPhone</td>\n",
       "      <td>This is Phineas. He's a mystical boy. Only eve...</td>\n",
       "      <td>13</td>\n",
       "      <td>10</td>\n",
       "      <td>Phineas</td>\n",
       "      <td></td>\n",
       "      <td></td>\n",
       "      <td></td>\n",
       "      <td></td>\n",
       "      <td>1</td>\n",
       "      <td>orange</td>\n",
       "      <td>0.097049</td>\n",
       "      <td>False</td>\n",
       "      <td>39467</td>\n",
       "      <td>8853</td>\n",
       "      <td>2017</td>\n",
       "      <td>8</td>\n",
       "      <td>1</td>\n",
       "      <td></td>\n",
       "    </tr>\n",
       "    <tr>\n",
       "      <th>1</th>\n",
       "      <td>892177421306343426</td>\n",
       "      <td>Twitter for iPhone</td>\n",
       "      <td>This is Tilly. She's just checking pup on you....</td>\n",
       "      <td>13</td>\n",
       "      <td>10</td>\n",
       "      <td>Tilly</td>\n",
       "      <td></td>\n",
       "      <td></td>\n",
       "      <td></td>\n",
       "      <td></td>\n",
       "      <td>1</td>\n",
       "      <td>Chihuahua</td>\n",
       "      <td>0.323581</td>\n",
       "      <td>True</td>\n",
       "      <td>33819</td>\n",
       "      <td>6514</td>\n",
       "      <td>2017</td>\n",
       "      <td>8</td>\n",
       "      <td>1</td>\n",
       "      <td></td>\n",
       "    </tr>\n",
       "    <tr>\n",
       "      <th>2</th>\n",
       "      <td>891815181378084864</td>\n",
       "      <td>Twitter for iPhone</td>\n",
       "      <td>This is Archie. He is a rare Norwegian Pouncin...</td>\n",
       "      <td>12</td>\n",
       "      <td>10</td>\n",
       "      <td>Archie</td>\n",
       "      <td></td>\n",
       "      <td></td>\n",
       "      <td></td>\n",
       "      <td></td>\n",
       "      <td>1</td>\n",
       "      <td>Chihuahua</td>\n",
       "      <td>0.716012</td>\n",
       "      <td>True</td>\n",
       "      <td>25461</td>\n",
       "      <td>4328</td>\n",
       "      <td>2017</td>\n",
       "      <td>7</td>\n",
       "      <td>31</td>\n",
       "      <td></td>\n",
       "    </tr>\n",
       "    <tr>\n",
       "      <th>3</th>\n",
       "      <td>891689557279858688</td>\n",
       "      <td>Twitter for iPhone</td>\n",
       "      <td>This is Darla. She commenced a snooze mid meal...</td>\n",
       "      <td>13</td>\n",
       "      <td>10</td>\n",
       "      <td>Darla</td>\n",
       "      <td></td>\n",
       "      <td></td>\n",
       "      <td></td>\n",
       "      <td></td>\n",
       "      <td>1</td>\n",
       "      <td>paper_towel</td>\n",
       "      <td>0.170278</td>\n",
       "      <td>False</td>\n",
       "      <td>42908</td>\n",
       "      <td>8964</td>\n",
       "      <td>2017</td>\n",
       "      <td>7</td>\n",
       "      <td>30</td>\n",
       "      <td></td>\n",
       "    </tr>\n",
       "    <tr>\n",
       "      <th>4</th>\n",
       "      <td>891327558926688256</td>\n",
       "      <td>Twitter for iPhone</td>\n",
       "      <td>This is Franklin. He would like you to stop ca...</td>\n",
       "      <td>12</td>\n",
       "      <td>10</td>\n",
       "      <td>Franklin</td>\n",
       "      <td></td>\n",
       "      <td></td>\n",
       "      <td></td>\n",
       "      <td></td>\n",
       "      <td>2</td>\n",
       "      <td>basset</td>\n",
       "      <td>0.555712</td>\n",
       "      <td>True</td>\n",
       "      <td>41048</td>\n",
       "      <td>9774</td>\n",
       "      <td>2017</td>\n",
       "      <td>7</td>\n",
       "      <td>29</td>\n",
       "      <td></td>\n",
       "    </tr>\n",
       "  </tbody>\n",
       "</table>\n",
       "</div>"
      ],
      "text/plain": [
       "             tweet_id              source  \\\n",
       "0  892420643555336193  Twitter for iPhone   \n",
       "1  892177421306343426  Twitter for iPhone   \n",
       "2  891815181378084864  Twitter for iPhone   \n",
       "3  891689557279858688  Twitter for iPhone   \n",
       "4  891327558926688256  Twitter for iPhone   \n",
       "\n",
       "                                                text rating_numerator  \\\n",
       "0  This is Phineas. He's a mystical boy. Only eve...               13   \n",
       "1  This is Tilly. She's just checking pup on you....               13   \n",
       "2  This is Archie. He is a rare Norwegian Pouncin...               12   \n",
       "3  This is Darla. She commenced a snooze mid meal...               13   \n",
       "4  This is Franklin. He would like you to stop ca...               12   \n",
       "\n",
       "   rating_denominator      name doggo floofer pupper puppo  img_num  \\\n",
       "0                  10   Phineas                                   1   \n",
       "1                  10     Tilly                                   1   \n",
       "2                  10    Archie                                   1   \n",
       "3                  10     Darla                                   1   \n",
       "4                  10  Franklin                                   2   \n",
       "\n",
       "    prediction  prediction_confidence  prediction_dog  favorite_count  \\\n",
       "0       orange               0.097049           False           39467   \n",
       "1    Chihuahua               0.323581            True           33819   \n",
       "2    Chihuahua               0.716012            True           25461   \n",
       "3  paper_towel               0.170278           False           42908   \n",
       "4       basset               0.555712            True           41048   \n",
       "\n",
       "   retweet_count  year  month  day stage  \n",
       "0           8853  2017      8    1        \n",
       "1           6514  2017      8    1        \n",
       "2           4328  2017      7   31        \n",
       "3           8964  2017      7   30        \n",
       "4           9774  2017      7   29        "
      ]
     },
     "execution_count": 218,
     "metadata": {},
     "output_type": "execute_result"
    }
   ],
   "source": [
    "df.head()"
   ]
  },
  {
   "cell_type": "code",
   "execution_count": 219,
   "id": "instant-fifth",
   "metadata": {},
   "outputs": [
    {
     "data": {
      "text/plain": [
       "tweet_id                 0.0\n",
       "source                   0.0\n",
       "text                     0.0\n",
       "rating_numerator         0.0\n",
       "rating_denominator       0.0\n",
       "name                     0.0\n",
       "doggo                    0.0\n",
       "floofer                  0.0\n",
       "pupper                   0.0\n",
       "puppo                    0.0\n",
       "img_num                  0.0\n",
       "prediction               0.0\n",
       "prediction_confidence    0.0\n",
       "prediction_dog           0.0\n",
       "favorite_count           0.0\n",
       "retweet_count            0.0\n",
       "year                     0.0\n",
       "month                    0.0\n",
       "day                      0.0\n",
       "stage                    0.0\n",
       "dtype: float64"
      ]
     },
     "execution_count": 219,
     "metadata": {},
     "output_type": "execute_result"
    }
   ],
   "source": [
    "#Validation\n",
    "df[df.duplicated()].sum()"
   ]
  },
  {
   "cell_type": "code",
   "execution_count": 220,
   "id": "fundamental-possibility",
   "metadata": {},
   "outputs": [],
   "source": [
    "###--export the data----"
   ]
  },
  {
   "cell_type": "code",
   "execution_count": 221,
   "id": "extensive-debut",
   "metadata": {},
   "outputs": [],
   "source": [
    "df.to_csv('twitter_archive_master.csv', encoding='utf-8' , index=False)"
   ]
  },
  {
   "cell_type": "code",
   "execution_count": 222,
   "id": "actual-volume",
   "metadata": {},
   "outputs": [],
   "source": [
    "df2=pd.read_csv('twitter_archive_master.csv')"
   ]
  },
  {
   "cell_type": "code",
   "execution_count": 223,
   "id": "cultural-budget",
   "metadata": {},
   "outputs": [
    {
     "data": {
      "image/png": "[encoded data removed]",
      "text/plain": [
       "<Figure size 1152x1152 with 12 Axes>"
      ]
     },
     "metadata": {
      "needs_background": "light"
     },
     "output_type": "display_data"
    }
   ],
   "source": [
    "df2.hist(figsize=(16,16));"
   ]
  },
  {
   "cell_type": "code",
   "execution_count": 224,
   "id": "classical-hunter",
   "metadata": {},
   "outputs": [
    {
     "data": {
      "text/plain": [
       "Text(0, 0.5, 'img_num')"
      ]
     },
     "execution_count": 224,
     "metadata": {},
     "output_type": "execute_result"
    },
    {
     "data": {
      "image/png": "[encoded data removed]",
      "text/plain": [
       "<Figure size 432x288 with 1 Axes>"
      ]
     },
     "metadata": {
      "needs_background": "light"
     },
     "output_type": "display_data"
    }
   ],
   "source": [
    "count = df2.groupby(['stage','img_num']).favorite_count.count()\n",
    "count.plot(kind='bar')\n",
    "plt.xlabel('stage')\n",
    "plt.ylabel('img_num')"
   ]
  },
  {
   "cell_type": "code",
   "execution_count": 225,
   "id": "sophisticated-contract",
   "metadata": {},
   "outputs": [
    {
     "data": {
      "text/plain": [
       "Text(0, 0.5, 'Count_of_tweet')"
      ]
     },
     "execution_count": 225,
     "metadata": {},
     "output_type": "execute_result"
    },
    {
     "data": {
      "image/png": "[encoded data removed]",
      "text/plain": [
       "<Figure size 432x288 with 1 Axes>"
      ]
     },
     "metadata": {
      "needs_background": "light"
     },
     "output_type": "display_data"
    }
   ],
   "source": [
    "df4=df2.loc[ : ,['source']].value_counts()\n",
    "df4.plot(kind='bar')\n",
    "plt.xlabel('Source')\n",
    "plt.ylabel('Count_of_tweet')"
   ]
  },
  {
   "cell_type": "code",
   "execution_count": 226,
   "id": "beautiful-temperature",
   "metadata": {},
   "outputs": [],
   "source": [
    "view_year = df2.loc[ : , ['year']]"
   ]
  },
  {
   "cell_type": "code",
   "execution_count": 227,
   "id": "complimentary-blanket",
   "metadata": {},
   "outputs": [],
   "source": [
    "df6=view_year.value_counts()"
   ]
  },
  {
   "cell_type": "code",
   "execution_count": 228,
   "id": "compliant-builder",
   "metadata": {},
   "outputs": [
    {
     "data": {
      "image/png": "[encoded data removed]",
      "text/plain": [
       "<Figure size 432x288 with 1 Axes>"
      ]
     },
     "metadata": {
      "needs_background": "light"
     },
     "output_type": "display_data"
    }
   ],
   "source": [
    "df6.plot(kind='bar')\n",
    "plt.xlabel('Year')\n",
    "plt.ylabel('Count_of_Tweet');"
   ]
  },
  {
   "cell_type": "code",
   "execution_count": 229,
   "id": "descending-compilation",
   "metadata": {},
   "outputs": [],
   "source": [
    "view_year_source = df2.loc[ : , ['year' ,'source']]"
   ]
  },
  {
   "cell_type": "code",
   "execution_count": 230,
   "id": "common-massachusetts",
   "metadata": {},
   "outputs": [],
   "source": [
    "df7=view_year_source.value_counts()"
   ]
  },
  {
   "cell_type": "code",
   "execution_count": 231,
   "id": "hollow-missouri",
   "metadata": {},
   "outputs": [
    {
     "data": {
      "image/png": "[encoded data removed]",
      "text/plain": [
       "<Figure size 432x288 with 1 Axes>"
      ]
     },
     "metadata": {
      "needs_background": "light"
     },
     "output_type": "display_data"
    }
   ],
   "source": [
    "df7.plot(kind='bar')\n",
    "plt.xlabel('Source & Year')\n",
    "plt.ylabel('Count');"
   ]
  },
  {
   "cell_type": "code",
   "execution_count": null,
   "id": "sacred-sport",
   "metadata": {},
   "outputs": [],
   "source": []
  },
  {
   "cell_type": "code",
   "execution_count": null,
   "id": "labeled-framework",
   "metadata": {},
   "outputs": [],
   "source": []
  },
  {
   "cell_type": "code",
   "execution_count": null,
   "id": "academic-butterfly",
   "metadata": {},
   "outputs": [],
   "source": []
  }
 ],
 "metadata": {
  "kernelspec": {
   "display_name": "Python 3",
   "language": "python",
   "name": "python3"
  },
  "language_info": {
   "codemirror_mode": {
    "name": "ipython",
    "version": 3
   },
   "file_extension": ".py",
   "mimetype": "text/x-python",
   "name": "python",
   "nbconvert_exporter": "python",
   "pygments_lexer": "ipython3",
   "version": "3.9.2"
  }
 },
 "nbformat": 4,
 "nbformat_minor": 5
}
